{
  "nbformat": 4,
  "nbformat_minor": 0,
  "metadata": {
    "colab": {
      "provenance": [],
      "collapsed_sections": [
        "Av-udXuAOvG2",
        "qzAL6FcVR-cp",
        "cwMMJ8xt8CDh",
        "3gld6PBaPQOp"
      ]
    },
    "kernelspec": {
      "name": "python3",
      "display_name": "Python 3"
    },
    "language_info": {
      "name": "python"
    }
  },
  "cells": [
    {
      "cell_type": "markdown",
      "source": [
        "## Import and install dependencies"
      ],
      "metadata": {
        "id": "Av-udXuAOvG2"
      }
    },
    {
      "cell_type": "code",
      "execution_count": 2,
      "metadata": {
        "colab": {
          "base_uri": "https://localhost:8080/"
        },
        "id": "7ra3T7iLim-A",
        "outputId": "a4fd443d-d20c-4c9f-f472-b576edf249bb",
        "collapsed": true
      },
      "outputs": [
        {
          "output_type": "stream",
          "name": "stdout",
          "text": [
            "Collecting PyPDF2\n",
            "  Downloading pypdf2-3.0.1-py3-none-any.whl.metadata (6.8 kB)\n",
            "Downloading pypdf2-3.0.1-py3-none-any.whl (232 kB)\n",
            "\u001b[?25l   \u001b[90m━━━━━━━━━━━━━━━━━━━━━━━━━━━━━━━━━━━━━━━━\u001b[0m \u001b[32m0.0/232.6 kB\u001b[0m \u001b[31m?\u001b[0m eta \u001b[36m-:--:--\u001b[0m\r\u001b[2K   \u001b[91m━━━━━━━━━━━━━━━\u001b[0m\u001b[91m╸\u001b[0m\u001b[90m━━━━━━━━━━━━━━━━━━━━━━━━\u001b[0m \u001b[32m92.2/232.6 kB\u001b[0m \u001b[31m2.5 MB/s\u001b[0m eta \u001b[36m0:00:01\u001b[0m\r\u001b[2K   \u001b[90m━━━━━━━━━━━━━━━━━━━━━━━━━━━━━━━━━━━━━━━━\u001b[0m \u001b[32m232.6/232.6 kB\u001b[0m \u001b[31m3.8 MB/s\u001b[0m eta \u001b[36m0:00:00\u001b[0m\n",
            "\u001b[?25hInstalling collected packages: PyPDF2\n",
            "Successfully installed PyPDF2-3.0.1\n",
            "Collecting scikit-network\n",
            "  Downloading scikit_network-0.33.1-cp311-cp311-manylinux_2_17_x86_64.manylinux2014_x86_64.whl.metadata (4.4 kB)\n",
            "Requirement already satisfied: numpy>=1.22.4 in /usr/local/lib/python3.11/dist-packages (from scikit-network) (1.26.4)\n",
            "Requirement already satisfied: scipy>=1.7.3 in /usr/local/lib/python3.11/dist-packages (from scikit-network) (1.13.1)\n",
            "Downloading scikit_network-0.33.1-cp311-cp311-manylinux_2_17_x86_64.manylinux2014_x86_64.whl (8.1 MB)\n",
            "\u001b[2K   \u001b[90m━━━━━━━━━━━━━━━━━━━━━━━━━━━━━━━━━━━━━━━━\u001b[0m \u001b[32m8.1/8.1 MB\u001b[0m \u001b[31m34.2 MB/s\u001b[0m eta \u001b[36m0:00:00\u001b[0m\n",
            "\u001b[?25hInstalling collected packages: scikit-network\n",
            "Successfully installed scikit-network-0.33.1\n",
            "Collecting python-dotenv\n",
            "  Downloading python_dotenv-1.0.1-py3-none-any.whl.metadata (23 kB)\n",
            "Downloading python_dotenv-1.0.1-py3-none-any.whl (19 kB)\n",
            "Installing collected packages: python-dotenv\n",
            "Successfully installed python-dotenv-1.0.1\n"
          ]
        },
        {
          "output_type": "stream",
          "name": "stderr",
          "text": [
            "[nltk_data] Downloading package punkt_tab to /root/nltk_data...\n",
            "[nltk_data]   Unzipping tokenizers/punkt_tab.zip.\n",
            "[nltk_data] Downloading package averaged_perceptron_tagger_eng to\n",
            "[nltk_data]     /root/nltk_data...\n",
            "[nltk_data]   Unzipping taggers/averaged_perceptron_tagger_eng.zip.\n"
          ]
        }
      ],
      "source": [
        "!pip install PyPDF2\n",
        "!pip install scikit-network\n",
        "!pip install python-dotenv\n",
        "\n",
        "import nltk\n",
        "nltk.download('punkt_tab')\n",
        "nltk.download('averaged_perceptron_tagger_eng')\n",
        "\n",
        "import os\n",
        "import spacy\n",
        "import requests\n",
        "import numpy as np\n",
        "import pandas as pd\n",
        "import networkx as nx\n",
        "import scipy.sparse as sp\n",
        "from bs4 import BeautifulSoup\n",
        "from dotenv import load_dotenv\n",
        "import matplotlib.pyplot as plt\n",
        "from calendar import monthrange\n",
        "from IPython.display import SVG\n",
        "from sknetwork.data import Bunch\n",
        "from sknetwork.ranking import PageRank\n",
        "from sknetwork.visualization import svg_graph\n",
        "from networkx.algorithms.community import greedy_modularity_communities"
      ]
    },
    {
      "cell_type": "markdown",
      "source": [
        "## Using **The Guardian** API to Search for Recent Articles Related to a Subject (e.g., Bitcoin)\n",
        "\n",
        "The /search endpoint allows you to query articles with optional filters such as `tag` and `section` to refine your results.\n",
        "\n",
        "By default, you can use the **\"test\"** API key provided by The Guardian for experimentation and basic queries. However, if you plan to use this API for a project, it is highly recommended to sign up for your own API key to benefit from higher request limits and additional features.  \n",
        "\n",
        "Visit [The Guardian Developer website](https://open-platform.theguardian.com/) and register for a free API key.\n",
        "\n",
        "For more details on how to use this API effectively, refer to the [official documentation](https://open-platform.theguardian.com/documentation/).\n"
      ],
      "metadata": {
        "id": "tbmELgiYRoRh"
      }
    },
    {
      "cell_type": "markdown",
      "source": [
        "### Search for tags associated with a given term using **The Guardian** API.  "
      ],
      "metadata": {
        "id": "qzAL6FcVR-cp"
      }
    },
    {
      "cell_type": "code",
      "source": [
        "def search_tags(term, api_key=\"test\"):\n",
        "    \"\"\"\n",
        "    Search for tags related to a specific term using The Guardian API.\n",
        "\n",
        "    Parameters:\n",
        "        term (str): The term to search for.\n",
        "        api_key (str): The API key for The Guardian API. Defaults to \"test\".\n",
        "\n",
        "    Returns:\n",
        "        list: A list of tag IDs related to the term, or None if an error occurs.\n",
        "    \"\"\"\n",
        "    base_url = \"https://content.guardianapis.com/tags\"\n",
        "    params = {\n",
        "        \"q\": term,\n",
        "        \"api-key\": api_key\n",
        "    }\n",
        "\n",
        "    try:\n",
        "        response = requests.get(base_url, params=params)\n",
        "        response.raise_for_status()\n",
        "\n",
        "        tags_data = response.json()\n",
        "        if tags_data:\n",
        "            return [tag[\"id\"] for tag in tags_data[\"response\"][\"results\"]]\n",
        "\n",
        "        return []\n",
        "    except requests.exceptions.RequestException as e:\n",
        "        print(f\"Error fetching tags: {e}\")\n",
        "        return None\n"
      ],
      "metadata": {
        "id": "HE1UdkEjRNAU"
      },
      "execution_count": 4,
      "outputs": []
    },
    {
      "cell_type": "markdown",
      "source": [
        "### Fetch the Latest Article URLs from **The Guardian** API based on a search term (`query`)\n",
        "\n"
      ],
      "metadata": {
        "id": "cgRB5KuASgXh"
      }
    },
    {
      "cell_type": "code",
      "source": [
        "def get_latest_guardian_articles_urls(query, api_key=\"test\", page_size=10, tag=None, section=None):\n",
        "    \"\"\"\n",
        "    Fetch the latest article URLs related to a specific query from The Guardian API.\n",
        "\n",
        "    Parameters:\n",
        "        query (str): The term to search for.\n",
        "        api_key (str): The API key for The Guardian API. Defaults to \"test\".\n",
        "        page_size (int): Number of articles to return. Defaults to 10.\n",
        "        tag (str, optional): A tag to filter results (e.g., \"technology/bitcoin\").\n",
        "        section (str, optional): A section to filter results (e.g., \"economy\").\n",
        "\n",
        "    Returns:\n",
        "        list: A list of article URLs, or None if an error occurs.\n",
        "    \"\"\"\n",
        "    base_url = \"https://content.guardianapis.com/search\"\n",
        "\n",
        "    params = {}\n",
        "\n",
        "    if section:\n",
        "      params[\"section\"] = section\n",
        "      #print(f\"Using section: {section}\")\n",
        "\n",
        "    if tag:\n",
        "      params[\"tag\"] = tag\n",
        "      #print(f\"Using tag: {tag}\")\n",
        "\n",
        "    params[\"order-by\"] = \"newest\"\n",
        "    params[\"page-size\"] = page_size\n",
        "    params[\"q\"] = query\n",
        "    params[\"api-key\"] = api_key\n",
        "\n",
        "    try:\n",
        "        response = requests.get(base_url, params=params)\n",
        "        response.raise_for_status()\n",
        "\n",
        "        print(f\"Request URL: {response.url}\")\n",
        "\n",
        "        articles_data = response.json()\n",
        "        if articles_data and articles_data['response']['results']:\n",
        "            return [article[\"webUrl\"] for article in articles_data['response']['results']]\n",
        "\n",
        "        print(\"No articles found.\")\n",
        "        return []\n",
        "    except requests.exceptions.RequestException as e:\n",
        "        print(f\"Error fetching articles: {e}\")\n",
        "        return None\n"
      ],
      "metadata": {
        "id": "ATYywYT-St0j"
      },
      "execution_count": 5,
      "outputs": []
    },
    {
      "cell_type": "markdown",
      "source": [
        "### Fetch the most relevante Article URLs from **The Guardian** API based on a search term (`query`) and a year\n",
        "\n"
      ],
      "metadata": {
        "id": "H18HXuuxSSw8"
      }
    },
    {
      "cell_type": "code",
      "source": [
        "def get_guardian_articles_urls_by_year(query, year, api_key=\"test\", page_size=10, tag=None, section=None):\n",
        "    \"\"\"\n",
        "    Fetch the most relevant article URLs for a specific query from The Guardian API within a given year.\n",
        "\n",
        "    Parameters:\n",
        "        query (str): The term to search for.\n",
        "        year (int): The year to filter results.\n",
        "        api_key (str): The API key for The Guardian API. Defaults to \"test\".\n",
        "        page_size (int): Number of articles to return per page. Defaults to 10.\n",
        "        tag (str, optional): A tag to filter results (e.g., \"technology/bitcoin\").\n",
        "        section (str, optional): A section to filter results (e.g., \"economy\").\n",
        "\n",
        "    Returns:\n",
        "        list: A list of article URLs, or None if an error occurs.\n",
        "    \"\"\"\n",
        "    base_url = \"https://content.guardianapis.com/search\"\n",
        "\n",
        "    # Define the date range for the entire year\n",
        "    from_date = f\"{year}-01-01\"\n",
        "    to_date = f\"{year}-12-31\"\n",
        "\n",
        "    params = {}\n",
        "\n",
        "    if section:\n",
        "      params[\"section\"] = section\n",
        "      #print(f\"Using section: {section}\")\n",
        "\n",
        "    if tag:\n",
        "      params[\"tag\"] = tag\n",
        "      #print(f\"Using tag: {tag}\")\n",
        "\n",
        "    params[\"from-date\"] = from_date\n",
        "    params[\"to-date\"] = to_date\n",
        "    params[\"order-by\"] = \"newest\"\n",
        "    params[\"page-size\"] = page_size\n",
        "    params[\"q\"] = query\n",
        "    params[\"api-key\"] = api_key\n",
        "\n",
        "    try:\n",
        "        response = requests.get(base_url, params=params)\n",
        "        response.raise_for_status()\n",
        "\n",
        "        print(f\"Request URL: {response.url}\")\n",
        "\n",
        "        articles_data = response.json()\n",
        "        if articles_data and articles_data['response']['results']:\n",
        "            return [article[\"webUrl\"] for article in articles_data['response']['results']]\n",
        "\n",
        "        print(\"No articles found.\")\n",
        "        return []\n",
        "    except requests.exceptions.RequestException as e:\n",
        "        print(f\"Error fetching articles: {e}\")\n",
        "        return None\n"
      ],
      "metadata": {
        "id": "4HO1Wp_IRfRg"
      },
      "execution_count": 6,
      "outputs": []
    },
    {
      "cell_type": "markdown",
      "source": [
        "## Using **NewsAPI** to Search for Articles Related to a Subject (e.g., Bitcoin)\n",
        "\n",
        "The `/everything` endpoint of NewsAPI allows you to query articles with filters like `language`, `sortBy`, and `pageSize` to refine your results. You will need to get a **free API key**.\n",
        "\n",
        "Visit [NewsAPI's website](https://newsapi.org/) to register for a free API key.\n",
        "\n",
        "For detailed documentation, visit the [official NewsAPI documentation](https://newsapi.org/docs/endpoints/everything).\n"
      ],
      "metadata": {
        "id": "cwMMJ8xt8CDh"
      }
    },
    {
      "cell_type": "code",
      "source": [
        "def get_newsapi_articles_urls_by_year(query, api_key, language=\"en\", page_size=10):\n",
        "    \"\"\"\n",
        "    Fetch the latest article URLs related to a specific query from NewsAPI.\n",
        "\n",
        "    Parâmetros:\n",
        "        query (str): The term to search for\n",
        "        api_key (str): Chave de API para autenticação na NewsAPI.\n",
        "        language (str): Idioma das notícias (padrão: \"en\").\n",
        "        page_size (int): Número de artigos a retornar (máx. 100).\n",
        "\n",
        "    Retorna:\n",
        "        list: Lista de URLs de artigos sobre Bitcoin.\n",
        "    \"\"\"\n",
        "    url = \"https://newsapi.org/v2/everything\"\n",
        "    params = {\n",
        "        \"q\": query,\n",
        "        \"language\": language,\n",
        "        \"pageSize\": page_size,\n",
        "        \"sortBy\": \"relevancy\",\n",
        "        \"apiKey\": api_key\n",
        "    }\n",
        "\n",
        "    try:\n",
        "        response = requests.get(url, params=params)\n",
        "        response.raise_for_status()\n",
        "\n",
        "        print(f\"Request URL: {response.url}\")\n",
        "\n",
        "        data = response.json()\n",
        "\n",
        "        if \"articles\" in data:\n",
        "          return [article[\"url\"] for article in data[\"articles\"]]\n",
        "        else:\n",
        "          print(\"No articles found.\")\n",
        "          return []\n",
        "\n",
        "    except requests.exceptions.RequestException as e:\n",
        "        print(f\"Error fetching articles: {e}\")\n",
        "        return []\n"
      ],
      "metadata": {
        "id": "NWK4N4s77aNV"
      },
      "execution_count": 7,
      "outputs": []
    },
    {
      "cell_type": "markdown",
      "source": [
        "## Using spaCy and Natural Language Toolkit (NLTK) to Process Articles from HTML Pages\n",
        "\n",
        "This section demonstrates how to use **spaCy** and **NLTK** to process and analyze the content of articles retrieved using **The Guardian API**.  \n",
        "\n",
        "#### Overview:\n",
        "\n",
        "1. Text Extraction: parse the HTML obtained from The Guardian API URLs to extract the main article text.\n",
        "2. Natural Language Processing (NLP):\n",
        "   - **spaCy** used for tokenization, named entity recognition (NER), and part-of-speech (POS) tagging.\n",
        "   - **NLTK** used for part-of-speech (POS) tagging."
      ],
      "metadata": {
        "id": "uryZBVhtbln4"
      }
    },
    {
      "cell_type": "markdown",
      "source": [
        "### HTML parse and cleaning text article from given a given URL"
      ],
      "metadata": {
        "id": "E45h2mp5VjP1"
      }
    },
    {
      "cell_type": "code",
      "source": [
        "def get_article_text(url):\n",
        "    \"\"\"\n",
        "    Fetches and extracts the article text from a given URL.\n",
        "\n",
        "    Parameters:\n",
        "        url (str): The URL of the article to extract text from.\n",
        "\n",
        "    Returns:\n",
        "        str: The text content of the article, or None if an error occurs.\n",
        "    \"\"\"\n",
        "    try:\n",
        "        response = requests.get(url)\n",
        "        response.raise_for_status()  # Raises an HTTPError for bad responses (4xx, 5xx)\n",
        "\n",
        "        soup = BeautifulSoup(response.text, 'html.parser')\n",
        "\n",
        "        # Only match <article> tag to get the main content\n",
        "        article = soup.find('article')\n",
        "        if not article:\n",
        "            print(f\"No <article> tag found for URL: {url}\")\n",
        "            return None\n",
        "\n",
        "        # Find all relevant text elements (<p> for paragraphs, <h1>-<h6> for headings)\n",
        "        tags = article.find_all(['p', 'h1', 'h2', 'h3', 'h4', 'h5', 'h6'])\n",
        "\n",
        "        # Extract text and join it into a single string\n",
        "        text = ''.join(tag.get_text(strip=True).rstrip('.\\n') + \".\\n\" for tag in tags)\n",
        "\n",
        "        return text\n",
        "\n",
        "    except requests.exceptions.RequestException as e:\n",
        "        print(f\"Error processing URL {url}: {e}\")\n",
        "        return None"
      ],
      "metadata": {
        "id": "ePqVsg8kdtkp"
      },
      "execution_count": 8,
      "outputs": []
    },
    {
      "cell_type": "markdown",
      "source": [
        "### Using only spaCy for tokenization, named entity recognition (NER), and part-of-speech (POS) tagging."
      ],
      "metadata": {
        "id": "iBwJu_qCemQA"
      }
    },
    {
      "cell_type": "code",
      "source": [
        "def process_text_with_spacy(text):\n",
        "    \"\"\"\n",
        "    Processes the given text using spaCy for tokenization, part-of-speech tagging,\n",
        "    and named entity recognition (NER).\n",
        "\n",
        "    Parameters:\n",
        "        text (str): The text to process.\n",
        "\n",
        "    Returns:\n",
        "        tuple: A tuple containing two elements:\n",
        "            - A list of proper noun tags (tokens with tag 'NNP').\n",
        "            - A list of filtered named entities (PERSON, ORG, GPE).\n",
        "    \"\"\"\n",
        "    doc = nlp(text)\n",
        "\n",
        "    sentences = list(doc.sents)\n",
        "\n",
        "    entities = []\n",
        "    nnp_tags = []\n",
        "\n",
        "    for sentence in sentences:\n",
        "\n",
        "      for token in sentence:\n",
        "        if token.tag_ == 'NNP' and token.text.isalpha():\n",
        "          nnp_tags.append(token.text)\n",
        "\n",
        "      sentence_entities = []\n",
        "\n",
        "      sent_doc = nlp(sentence.text)\n",
        "      for ent in sent_doc.ents:\n",
        "        if ent.label_ in ['PERSON', 'ORG', 'GPE']:\n",
        "          entity = ent.text.strip().lower()\n",
        "\n",
        "          if \"'s\" in entity:\n",
        "\n",
        "              cutoff = entity.index(\"'s\")\n",
        "\n",
        "              entity = entity[:cutoff]\n",
        "\n",
        "          if entity != '':\n",
        "\n",
        "              sentence_entities.append(entity)\n",
        "\n",
        "        sentence_entities = list(set(sentence_entities))\n",
        "\n",
        "        if len(sentence_entities) > 1:\n",
        "\n",
        "            entities.append(sentence_entities)\n",
        "\n",
        "    return nnp_tags, entities"
      ],
      "metadata": {
        "id": "9xTQ8nDXyHdg"
      },
      "execution_count": 9,
      "outputs": []
    },
    {
      "cell_type": "markdown",
      "source": [
        "### Using spaCy and NLTK for tokenization, named entity recognition (NER), and part-of-speech (POS) tagging."
      ],
      "metadata": {
        "id": "U6Nf9jMVev0R"
      }
    },
    {
      "cell_type": "code",
      "source": [
        "def process_text_with_nltk_and_spacy(text):\n",
        "    \"\"\"\n",
        "    Process the given text using both NLTK and spaCy for tokenization,\n",
        "    part-of-speech tagging, and named entity recognition (NER).\n",
        "\n",
        "    Parameters:\n",
        "        text (str): The text to be processed.\n",
        "\n",
        "    Returns:\n",
        "        tuple: A tuple containing:\n",
        "            - A list of proper nouns (NNP) from POS tagging using NLTK.\n",
        "            - A list of filtered named entities (PERSON, ORG, GPE) using spaCy.\n",
        "    \"\"\"\n",
        "    try:\n",
        "        #NLTK\n",
        "        sentences = nltk.sent_tokenize(text)\n",
        "\n",
        "        pos_tags = []\n",
        "        for sentence in sentences:\n",
        "            words = nltk.word_tokenize(sentence)\n",
        "            pos_tags.extend(nltk.pos_tag(words))\n",
        "\n",
        "        nnp_tags = [tag for tag in pos_tags if tag[1] == 'NNP' and tag[0].isalpha()]\n",
        "\n",
        "        #spaCy\n",
        "        doc = nlp(text)\n",
        "\n",
        "        sentences = list(doc.sents)\n",
        "\n",
        "        entities = []\n",
        "\n",
        "        for sentence in sentences:\n",
        "          sentence_entities = []\n",
        "\n",
        "          sent_doc = nlp(sentence.text)\n",
        "          for ent in sent_doc.ents:\n",
        "            if ent.label_ in ['PERSON', 'ORG', 'GPE']:\n",
        "              entity = ent.text.strip()\n",
        "\n",
        "              if \"'s\" in entity:\n",
        "\n",
        "                  cutoff = entity.index(\"'s\")\n",
        "\n",
        "                  entity = entity[:cutoff]\n",
        "\n",
        "              if entity != '':\n",
        "\n",
        "                  sentence_entities.append(entity)\n",
        "\n",
        "            sentence_entities = list(set(sentence_entities))\n",
        "\n",
        "            if len(sentence_entities) > 1:\n",
        "\n",
        "                entities.append(sentence_entities)\n",
        "\n",
        "        return nnp_tags, entities\n",
        "\n",
        "    except Exception as e:\n",
        "        print(f\"Error processing text: {e}\")\n",
        "        return [], []\n"
      ],
      "metadata": {
        "id": "VX4CBKo970l-"
      },
      "execution_count": 10,
      "outputs": []
    },
    {
      "cell_type": "markdown",
      "source": [
        "## Converting entities into network data\n"
      ],
      "metadata": {
        "id": "HOBPog1wf-Fo"
      }
    },
    {
      "cell_type": "markdown",
      "source": [
        "### Extract entities from articles_urls texts"
      ],
      "metadata": {
        "id": "E7l1YWypKa38"
      }
    },
    {
      "cell_type": "code",
      "source": [
        "def extract_entities(articles_urls, print_all=False):\n",
        "    \"\"\"\n",
        "    Extracts named entities related to theme from a list of article URLs.\n",
        "\n",
        "    Parameters:\n",
        "        articles_urls (list of str): List of URLs to process.\n",
        "        print_all (bool): If True, prints URLs, entities and NNP Tags.\n",
        "\n",
        "    Returns:\n",
        "        list: A list of named entities extracted from the articles.\n",
        "    \"\"\"\n",
        "    entities = []\n",
        "\n",
        "    for url in articles_urls:\n",
        "        text = get_article_text(url)\n",
        "\n",
        "        if print_all:\n",
        "            print(f\"URL: {url}\")\n",
        "\n",
        "        if text:\n",
        "            #nnp_tags, article_entities = process_text_with_nltk_and_spacy(text)\n",
        "            nnp_tags, article_entities = process_text_with_spacy(text)\n",
        "            entities.extend(article_entities)\n",
        "\n",
        "            if print_all:\n",
        "                print(\"NNP Tags (Proper Nouns):\", nnp_tags)\n",
        "                print(f\"Filtered Named Entities (PERSON, ORG, GPE): {article_entities}\\n\")\n",
        "\n",
        "    return entities"
      ],
      "metadata": {
        "id": "5YR2QPamKZSo"
      },
      "execution_count": 11,
      "outputs": []
    },
    {
      "cell_type": "markdown",
      "source": [
        "### Get network data from entities"
      ],
      "metadata": {
        "id": "rql3opC2MQPf"
      }
    },
    {
      "cell_type": "code",
      "source": [
        "def get_network_data(entities):\n",
        "\n",
        "    final_sources = []\n",
        "    final_targets = []\n",
        "\n",
        "    for row in entities:\n",
        "\n",
        "        source = row[0]\n",
        "        targets = row[1:]\n",
        "\n",
        "        for target in targets:\n",
        "\n",
        "            final_sources.append(source)\n",
        "            final_targets.append(target)\n",
        "\n",
        "    df = pd.DataFrame({'source':final_sources, 'target':final_targets})\n",
        "\n",
        "    return df"
      ],
      "metadata": {
        "id": "R7GonV0hL-zc"
      },
      "execution_count": 12,
      "outputs": []
    },
    {
      "cell_type": "markdown",
      "source": [
        "## Draw networkx graphs from network data"
      ],
      "metadata": {
        "id": "3gld6PBaPQOp"
      }
    },
    {
      "cell_type": "code",
      "source": [
        "def draw_graph(G, show_names=False, node_size=1, font_size=10, edge_width=0.5, file_path=None):\n",
        "\n",
        "    adjacency = nx.adjacency_matrix(G, weight='weight')\n",
        "    adjacency = sp.csr_matrix(adjacency)\n",
        "\n",
        "    names = np.array(list(G.nodes()))\n",
        "\n",
        "    graph = Bunch()\n",
        "    graph.adjacency = adjacency\n",
        "    graph.names = np.array(names)\n",
        "\n",
        "    pagerank = PageRank()\n",
        "\n",
        "    pagerank.fit(adjacency)\n",
        "    scores = pagerank.scores_\n",
        "\n",
        "    if show_names:\n",
        "\n",
        "        image = svg_graph(graph.adjacency, font_size=font_size, node_size=node_size, names=graph.names, width=700, height=500, scores=scores, edge_width=edge_width)\n",
        "\n",
        "    else:\n",
        "\n",
        "        image = svg_graph(graph.adjacency, node_size=node_size, width=700, height=500, scores = scores, edge_width=edge_width)\n",
        "\n",
        "    if file_path:\n",
        "        with open(file_path, 'w') as f:\n",
        "            f.write(image)\n",
        "\n",
        "    return SVG(image)"
      ],
      "metadata": {
        "id": "Imr9fk0zPYDb"
      },
      "execution_count": 13,
      "outputs": []
    },
    {
      "cell_type": "code",
      "source": [
        "def draw_ego_graph(G, ego, center=True, k=0, show_names=True, edge_width=0.1, node_size=3, font_size=12, file_path=None):\n",
        "\n",
        "    G.remove_edges_from(nx.selfloop_edges(G))\n",
        "\n",
        "    ego = nx.ego_graph(G, ego, center=center)\n",
        "\n",
        "    ego = nx.k_core(ego, k)\n",
        "\n",
        "    return draw_graph(ego, node_size=node_size, font_size=font_size, show_names=show_names, edge_width=edge_width, file_path=file_path)"
      ],
      "metadata": {
        "id": "TSI9PLESRFZQ"
      },
      "execution_count": 14,
      "outputs": []
    },
    {
      "cell_type": "markdown",
      "source": [
        "## Configure environment, set query and apply functions to get graph and metrics"
      ],
      "metadata": {
        "id": "ctk7SlvYNhjX"
      }
    },
    {
      "cell_type": "markdown",
      "source": [
        "### Using the 100 newest articles from The Guardian api"
      ],
      "metadata": {
        "id": "D8tbuvqBMiYY"
      }
    },
    {
      "cell_type": "code",
      "source": [
        "nlp = spacy.load(\"en_core_web_sm\")\n",
        "\n",
        "load_dotenv()\n",
        "\n",
        "api_key = os.getenv(\"THE_GUARDIAN_API_KEY\", \"test\")\n",
        "\n",
        "query = \"bitcoin\"\n",
        "\n",
        "tag = search_tags(query, api_key)[0]"
      ],
      "metadata": {
        "id": "pKCGb5wL_Biw"
      },
      "execution_count": 15,
      "outputs": []
    },
    {
      "cell_type": "code",
      "source": [
        "the_guardian_articles_urls = get_latest_guardian_articles_urls(query, api_key, page_size=100, tag=tag, section=None)\n",
        "\n",
        "print(f\"Número de artigos utilizados: {len(the_guardian_articles_urls)}\")"
      ],
      "metadata": {
        "colab": {
          "base_uri": "https://localhost:8080/"
        },
        "id": "7DyNRdeeIQUh",
        "outputId": "0766cded-2eb6-49f2-f0f0-7d3af5c91ebb"
      },
      "execution_count": 16,
      "outputs": [
        {
          "output_type": "stream",
          "name": "stdout",
          "text": [
            "Request URL: https://content.guardianapis.com/search?tag=technology%2Fbitcoin&order-by=newest&page-size=100&q=bitcoin&api-key=test\n",
            "Número de artigos utilizados: 100\n"
          ]
        }
      ]
    },
    {
      "cell_type": "code",
      "source": [
        "the_guardian_bitcoin_entities = extract_entities(the_guardian_articles_urls, print_all=False)"
      ],
      "metadata": {
        "id": "DDKOftCdMcXw"
      },
      "execution_count": 17,
      "outputs": []
    },
    {
      "cell_type": "code",
      "source": [
        "the_guardian_bitcoin_network_df = get_network_data(the_guardian_bitcoin_entities)\n",
        "\n",
        "G_the_guardian_bitcoin = nx.from_pandas_edgelist(the_guardian_bitcoin_network_df)\n",
        "\n",
        "G_the_guardian_bitcoin.remove_edges_from(nx.selfloop_edges(G_the_guardian_bitcoin))"
      ],
      "metadata": {
        "id": "m5yGS9eJO4xJ"
      },
      "execution_count": 18,
      "outputs": []
    },
    {
      "cell_type": "code",
      "source": [
        "print(G_the_guardian_bitcoin)\n",
        "print(tag)"
      ],
      "metadata": {
        "colab": {
          "base_uri": "https://localhost:8080/"
        },
        "id": "PugDr_ezDeBz",
        "outputId": "d288dc14-b63b-45af-87ae-90780e1229e8"
      },
      "execution_count": 19,
      "outputs": [
        {
          "output_type": "stream",
          "name": "stdout",
          "text": [
            "Graph with 1177 nodes and 1707 edges\n",
            "technology/bitcoin\n"
          ]
        }
      ]
    },
    {
      "cell_type": "code",
      "source": [
        "draw_ego_graph(G_the_guardian_bitcoin, 'bitcoin', file_path=\"latest_ego_bitcoin_graph.svg\")"
      ],
      "metadata": {
        "colab": {
          "base_uri": "https://localhost:8080/",
          "height": 560
        },
        "id": "2B6BSwg9Aj4M",
        "outputId": "99b54c33-9217-4414-c012-c4455f342b40"
      },
      "execution_count": 20,
      "outputs": [
        {
          "output_type": "execute_result",
          "data": {
            "text/plain": [
              "<IPython.core.display.SVG object>"
            ],
            "image/svg+xml": "<svg xmlns=\"http://www.w3.org/2000/svg\" width=\"1004.5805462030537\" height=\"540\">\n<path stroke-width=\"0.1\" stroke=\"gray\" d=\"M 720 241 357 276\"/>\n<path stroke-width=\"0.1\" stroke=\"gray\" d=\"M 357 276 400 520\"/>\n<path stroke-width=\"0.1\" stroke=\"gray\" d=\"M 357 276 332 423\"/>\n<path stroke-width=\"0.1\" stroke=\"gray\" d=\"M 357 276 176 285\"/>\n<path stroke-width=\"0.1\" stroke=\"gray\" d=\"M 357 276 101 470\"/>\n<path stroke-width=\"0.1\" stroke=\"gray\" d=\"M 357 276 173 91\"/>\n<path stroke-width=\"0.1\" stroke=\"gray\" d=\"M 357 276 626 419\"/>\n<path stroke-width=\"0.1\" stroke=\"gray\" d=\"M 357 276 628 253\"/>\n<path stroke-width=\"0.1\" stroke=\"gray\" d=\"M 357 276 323 210\"/>\n<path stroke-width=\"0.1\" stroke=\"gray\" d=\"M 357 276 371 20\"/>\n<path stroke-width=\"0.1\" stroke=\"gray\" d=\"M 357 276 720 241\"/>\n<path stroke-width=\"0.1\" stroke=\"gray\" d=\"M 441 425 357 276\"/>\n<path stroke-width=\"0.1\" stroke=\"gray\" d=\"M 441 425 332 423\"/>\n<path stroke-width=\"0.1\" stroke=\"gray\" d=\"M 99 135 357 276\"/>\n<path stroke-width=\"0.1\" stroke=\"gray\" d=\"M 99 135 273 147\"/>\n<path stroke-width=\"0.1\" stroke=\"gray\" d=\"M 251 39 357 276\"/>\n<path stroke-width=\"0.1\" stroke=\"gray\" d=\"M 357 276 669 347\"/>\n<path stroke-width=\"0.1\" stroke=\"gray\" d=\"M 45 288 357 276\"/>\n<path stroke-width=\"0.1\" stroke=\"gray\" d=\"M 357 276 480 70\"/>\n<path stroke-width=\"0.1\" stroke=\"gray\" d=\"M 357 276 500 166\"/>\n<path stroke-width=\"0.1\" stroke=\"gray\" d=\"M 417 138 273 147\"/>\n<path stroke-width=\"0.1\" stroke=\"gray\" d=\"M 417 138 500 166\"/>\n<path stroke-width=\"0.1\" stroke=\"gray\" d=\"M 417 138 480 70\"/>\n<path stroke-width=\"0.1\" stroke=\"gray\" d=\"M 417 138 323 210\"/>\n<path stroke-width=\"0.1\" stroke=\"gray\" d=\"M 357 276 20 366\"/>\n<path stroke-width=\"0.1\" stroke=\"gray\" d=\"M 357 276 417 138\"/>\n<path stroke-width=\"0.1\" stroke=\"gray\" d=\"M 357 276 441 425\"/>\n<path stroke-width=\"0.1\" stroke=\"gray\" d=\"M 357 276 99 135\"/>\n<path stroke-width=\"0.1\" stroke=\"gray\" d=\"M 357 276 251 39\"/>\n<path stroke-width=\"0.1\" stroke=\"gray\" d=\"M 357 276 45 288\"/>\n<path stroke-width=\"0.1\" stroke=\"gray\" d=\"M 357 276 241 494\"/>\n<path stroke-width=\"0.1\" stroke=\"gray\" d=\"M 357 276 600 80\"/>\n<path stroke-width=\"0.1\" stroke=\"gray\" d=\"M 357 276 540 475\"/>\n<path stroke-width=\"0.1\" stroke=\"gray\" d=\"M 357 276 110 198\"/>\n<path stroke-width=\"0.1\" stroke=\"gray\" d=\"M 357 276 273 147\"/>\n<path stroke-width=\"0.1\" stroke=\"gray\" d=\"M 357 276 173 428\"/>\n<path stroke-width=\"0.1\" stroke=\"gray\" d=\"M 45 288 176 285\"/>\n<path stroke-width=\"0.1\" stroke=\"gray\" d=\"M 241 494 357 276\"/>\n<path stroke-width=\"0.1\" stroke=\"gray\" d=\"M 241 494 173 428\"/>\n<path stroke-width=\"0.1\" stroke=\"gray\" d=\"M 332 423 357 276\"/>\n<path stroke-width=\"0.1\" stroke=\"gray\" d=\"M 332 423 441 425\"/>\n<path stroke-width=\"0.1\" stroke=\"gray\" d=\"M 176 285 357 276\"/>\n<path stroke-width=\"0.1\" stroke=\"gray\" d=\"M 176 285 45 288\"/>\n<path stroke-width=\"0.1\" stroke=\"gray\" d=\"M 176 285 323 210\"/>\n<path stroke-width=\"0.1\" stroke=\"gray\" d=\"M 101 470 357 276\"/>\n<path stroke-width=\"0.1\" stroke=\"gray\" d=\"M 173 91 357 276\"/>\n<path stroke-width=\"0.1\" stroke=\"gray\" d=\"M 173 91 273 147\"/>\n<path stroke-width=\"0.1\" stroke=\"gray\" d=\"M 626 419 357 276\"/>\n<path stroke-width=\"0.1\" stroke=\"gray\" d=\"M 628 253 357 276\"/>\n<path stroke-width=\"0.1\" stroke=\"gray\" d=\"M 323 210 417 138\"/>\n<path stroke-width=\"0.1\" stroke=\"gray\" d=\"M 323 210 357 276\"/>\n<path stroke-width=\"0.1\" stroke=\"gray\" d=\"M 323 210 273 147\"/>\n<path stroke-width=\"0.1\" stroke=\"gray\" d=\"M 323 210 176 285\"/>\n<path stroke-width=\"0.1\" stroke=\"gray\" d=\"M 371 20 357 276\"/>\n<path stroke-width=\"0.1\" stroke=\"gray\" d=\"M 400 520 357 276\"/>\n<path stroke-width=\"0.1\" stroke=\"gray\" d=\"M 669 347 357 276\"/>\n<path stroke-width=\"0.1\" stroke=\"gray\" d=\"M 480 70 357 276\"/>\n<path stroke-width=\"0.1\" stroke=\"gray\" d=\"M 480 70 417 138\"/>\n<path stroke-width=\"0.1\" stroke=\"gray\" d=\"M 600 80 357 276\"/>\n<path stroke-width=\"0.1\" stroke=\"gray\" d=\"M 540 475 357 276\"/>\n<path stroke-width=\"0.1\" stroke=\"gray\" d=\"M 110 198 357 276\"/>\n<path stroke-width=\"0.1\" stroke=\"gray\" d=\"M 110 198 273 147\"/>\n<path stroke-width=\"0.1\" stroke=\"gray\" d=\"M 273 147 417 138\"/>\n<path stroke-width=\"0.1\" stroke=\"gray\" d=\"M 273 147 357 276\"/>\n<path stroke-width=\"0.1\" stroke=\"gray\" d=\"M 273 147 99 135\"/>\n<path stroke-width=\"0.1\" stroke=\"gray\" d=\"M 417 138 357 276\"/>\n<path stroke-width=\"0.1\" stroke=\"gray\" d=\"M 273 147 110 198\"/>\n<path stroke-width=\"0.1\" stroke=\"gray\" d=\"M 273 147 173 91\"/>\n<path stroke-width=\"0.1\" stroke=\"gray\" d=\"M 273 147 323 210\"/>\n<path stroke-width=\"0.1\" stroke=\"gray\" d=\"M 500 166 417 138\"/>\n<path stroke-width=\"0.1\" stroke=\"gray\" d=\"M 500 166 357 276\"/>\n<path stroke-width=\"0.1\" stroke=\"gray\" d=\"M 500 166 273 147\"/>\n<path stroke-width=\"0.1\" stroke=\"gray\" d=\"M 173 428 357 276\"/>\n<path stroke-width=\"0.1\" stroke=\"gray\" d=\"M 173 428 241 494\"/>\n<path stroke-width=\"0.1\" stroke=\"gray\" d=\"M 273 147 500 166\"/>\n<path stroke-width=\"0.1\" stroke=\"gray\" d=\"M 20 366 357 276\"/>\n<circle cx=\"720\" cy=\"241\" r=\"3.0\" style=\"fill:rgb(58, 76, 192);stroke:black;stroke-width:1.0\"/>\n<circle cx=\"371\" cy=\"20\" r=\"3.0\" style=\"fill:rgb(58, 76, 192);stroke:black;stroke-width:1.0\"/>\n<circle cx=\"323\" cy=\"210\" r=\"3.0\" style=\"fill:rgb(88, 118, 226);stroke:black;stroke-width:1.0\"/>\n<circle cx=\"628\" cy=\"253\" r=\"3.0\" style=\"fill:rgb(58, 76, 192);stroke:black;stroke-width:1.0\"/>\n<circle cx=\"626\" cy=\"419\" r=\"3.0\" style=\"fill:rgb(58, 76, 192);stroke:black;stroke-width:1.0\"/>\n<circle cx=\"173\" cy=\"91\" r=\"3.0\" style=\"fill:rgb(66, 88, 202);stroke:black;stroke-width:1.0\"/>\n<circle cx=\"101\" cy=\"470\" r=\"3.0\" style=\"fill:rgb(58, 76, 192);stroke:black;stroke-width:1.0\"/>\n<circle cx=\"176\" cy=\"285\" r=\"3.0\" style=\"fill:rgb(80, 107, 218);stroke:black;stroke-width:1.0\"/>\n<circle cx=\"332\" cy=\"423\" r=\"3.0\" style=\"fill:rgb(70, 93, 207);stroke:black;stroke-width:1.0\"/>\n<circle cx=\"400\" cy=\"520\" r=\"3.0\" style=\"fill:rgb(58, 76, 192);stroke:black;stroke-width:1.0\"/>\n<circle cx=\"669\" cy=\"347\" r=\"3.0\" style=\"fill:rgb(58, 76, 192);stroke:black;stroke-width:1.0\"/>\n<circle cx=\"480\" cy=\"70\" r=\"3.0\" style=\"fill:rgb(66, 88, 202);stroke:black;stroke-width:1.0\"/>\n<circle cx=\"173\" cy=\"428\" r=\"3.0\" style=\"fill:rgb(70, 93, 207);stroke:black;stroke-width:1.0\"/>\n<circle cx=\"500\" cy=\"166\" r=\"3.0\" style=\"fill:rgb(76, 102, 214);stroke:black;stroke-width:1.0\"/>\n<circle cx=\"273\" cy=\"147\" r=\"3.0\" style=\"fill:rgb(127, 162, 250);stroke:black;stroke-width:1.0\"/>\n<circle cx=\"110\" cy=\"198\" r=\"3.0\" style=\"fill:rgb(66, 88, 202);stroke:black;stroke-width:1.0\"/>\n<circle cx=\"540\" cy=\"475\" r=\"3.0\" style=\"fill:rgb(58, 76, 192);stroke:black;stroke-width:1.0\"/>\n<circle cx=\"600\" cy=\"80\" r=\"3.0\" style=\"fill:rgb(58, 76, 192);stroke:black;stroke-width:1.0\"/>\n<circle cx=\"241\" cy=\"494\" r=\"3.0\" style=\"fill:rgb(70, 93, 207);stroke:black;stroke-width:1.0\"/>\n<circle cx=\"45\" cy=\"288\" r=\"3.0\" style=\"fill:rgb(66, 88, 202);stroke:black;stroke-width:1.0\"/>\n<circle cx=\"251\" cy=\"39\" r=\"3.0\" style=\"fill:rgb(58, 76, 192);stroke:black;stroke-width:1.0\"/>\n<circle cx=\"99\" cy=\"135\" r=\"3.0\" style=\"fill:rgb(66, 88, 202);stroke:black;stroke-width:1.0\"/>\n<circle cx=\"441\" cy=\"425\" r=\"3.0\" style=\"fill:rgb(70, 93, 207);stroke:black;stroke-width:1.0\"/>\n<circle cx=\"357\" cy=\"276\" r=\"3.0\" style=\"fill:rgb(179, 3, 38);stroke:black;stroke-width:1.0\"/>\n<circle cx=\"417\" cy=\"138\" r=\"3.0\" style=\"fill:rgb(99, 131, 234);stroke:black;stroke-width:1.0\"/>\n<circle cx=\"20\" cy=\"366\" r=\"3.0\" style=\"fill:rgb(58, 76, 192);stroke:black;stroke-width:1.0\"/>\n<text text-anchor=\"start\" x=\"726\" y=\"241\" font-size=\"12\">satoshi nakamoto</text><text text-anchor=\"start\" x=\"377\" y=\"20\" font-size=\"12\">sam bankman-friedcommitted</text><text text-anchor=\"start\" x=\"329\" y=\"210\" font-size=\"12\">sec</text><text text-anchor=\"start\" x=\"634\" y=\"253\" font-size=\"12\">brosens</text><text text-anchor=\"start\" x=\"632\" y=\"419\" font-size=\"12\">david gerard</text><text text-anchor=\"start\" x=\"179\" y=\"91\" font-size=\"12\">donald trump</text><text text-anchor=\"start\" x=\"107\" y=\"470\" font-size=\"12\">monero</text><text text-anchor=\"start\" x=\"182\" y=\"285\" font-size=\"12\">fbi</text><text text-anchor=\"start\" x=\"338\" y=\"423\" font-size=\"12\">barack obama</text><text text-anchor=\"start\" x=\"406\" y=\"520\" font-size=\"12\">eft</text><text text-anchor=\"start\" x=\"675\" y=\"347\" font-size=\"12\">authorof</text><text text-anchor=\"start\" x=\"486\" y=\"70\" font-size=\"12\">robert f kennedy jr</text><text text-anchor=\"start\" x=\"179\" y=\"428\" font-size=\"12\">tether</text><text text-anchor=\"start\" x=\"506\" y=\"166\" font-size=\"12\">america</text><text text-anchor=\"start\" x=\"279\" y=\"147\" font-size=\"12\">us</text><text text-anchor=\"start\" x=\"116\" y=\"198\" font-size=\"12\">uk</text><text text-anchor=\"start\" x=\"546\" y=\"475\" font-size=\"12\">us securities and exchange commission</text><text text-anchor=\"start\" x=\"606\" y=\"80\" font-size=\"12\">reserve”of</text><text text-anchor=\"start\" x=\"247\" y=\"494\" font-size=\"12\">usdt</text><text text-anchor=\"start\" x=\"51\" y=\"288\" font-size=\"12\">gurvais grigg</text><text text-anchor=\"start\" x=\"257\" y=\"39\" font-size=\"12\">binance boss</text><text text-anchor=\"start\" x=\"105\" y=\"135\" font-size=\"12\">celsius</text><text text-anchor=\"start\" x=\"447\" y=\"425\" font-size=\"12\">joseph james o’connor</text><text text-anchor=\"start\" x=\"363\" y=\"276\" font-size=\"12\">bitcoin</text><text text-anchor=\"start\" x=\"423\" y=\"138\" font-size=\"12\">trump</text><text text-anchor=\"start\" x=\"26\" y=\"366\" font-size=\"12\">morgan</text></svg>"
          },
          "metadata": {},
          "execution_count": 20
        }
      ]
    },
    {
      "cell_type": "markdown",
      "source": [
        "### Comparing graph using the most relevant articles of a year (2018) from The Guardian api"
      ],
      "metadata": {
        "id": "7WsYSJzfOOCa"
      }
    },
    {
      "cell_type": "code",
      "source": [
        "the_guardian_2018_bitcoin_articles_url = get_guardian_articles_urls_by_year(query, 2018, api_key, page_size=100, tag=tag, section=None)\n",
        "\n",
        "print(f\"Número de artigos utilizados: {len(the_guardian_2018_bitcoin_articles_url)}\")"
      ],
      "metadata": {
        "colab": {
          "base_uri": "https://localhost:8080/"
        },
        "id": "5elRRnzULJAn",
        "outputId": "739e27e4-5086-440e-c649-b958420edc99"
      },
      "execution_count": 21,
      "outputs": [
        {
          "output_type": "stream",
          "name": "stdout",
          "text": [
            "Request URL: https://content.guardianapis.com/search?tag=technology%2Fbitcoin&from-date=2018-01-01&to-date=2018-12-31&order-by=newest&page-size=100&q=bitcoin&api-key=test\n",
            "Número de artigos utilizados: 72\n"
          ]
        }
      ]
    },
    {
      "cell_type": "code",
      "source": [
        "the_guardian_2018_bitcoin_entities = extract_entities(the_guardian_2018_bitcoin_articles_url, print_all=False)"
      ],
      "metadata": {
        "id": "0secBbKuM2JJ"
      },
      "execution_count": 22,
      "outputs": []
    },
    {
      "cell_type": "code",
      "source": [
        "the_guardian_2018_bitcoin_network_df = get_network_data(the_guardian_2018_bitcoin_entities)\n",
        "\n",
        "G_the_guardian_2018_bitcoin = nx.from_pandas_edgelist(the_guardian_2018_bitcoin_network_df)\n",
        "\n",
        "G_the_guardian_2018_bitcoin.remove_edges_from(nx.selfloop_edges(G_the_guardian_2018_bitcoin))"
      ],
      "metadata": {
        "id": "Iu4zEkKBOACC"
      },
      "execution_count": 23,
      "outputs": []
    },
    {
      "cell_type": "code",
      "source": [
        "print(G_the_guardian_2018_bitcoin)"
      ],
      "metadata": {
        "colab": {
          "base_uri": "https://localhost:8080/"
        },
        "id": "4YPLtb2LFN6W",
        "outputId": "26988245-6983-4496-b3dc-f80cfe2db979"
      },
      "execution_count": 24,
      "outputs": [
        {
          "output_type": "stream",
          "name": "stdout",
          "text": [
            "Graph with 579 nodes and 592 edges\n"
          ]
        }
      ]
    },
    {
      "cell_type": "code",
      "source": [
        "draw_ego_graph(G_the_guardian_2018_bitcoin, 'bitcoin', file_path=\"2018_ego_bitcoin_graph.svg\")"
      ],
      "metadata": {
        "colab": {
          "base_uri": "https://localhost:8080/",
          "height": 580
        },
        "id": "YZWTq-1POhj2",
        "outputId": "543ddb5f-ee87-4d1a-c4a9-94f71960dda1"
      },
      "execution_count": 25,
      "outputs": [
        {
          "output_type": "execute_result",
          "data": {
            "text/plain": [
              "<IPython.core.display.SVG object>"
            ],
            "image/svg+xml": "<svg xmlns=\"http://www.w3.org/2000/svg\" width=\"1220.0\" height=\"540\">\n<path stroke-width=\"0.1\" stroke=\"gray\" d=\"M 413 20 381 266\"/>\n<path stroke-width=\"0.1\" stroke=\"gray\" d=\"M 381 266 620 151\"/>\n<path stroke-width=\"0.1\" stroke=\"gray\" d=\"M 381 266 110 419\"/>\n<path stroke-width=\"0.1\" stroke=\"gray\" d=\"M 381 266 47 340\"/>\n<path stroke-width=\"0.1\" stroke=\"gray\" d=\"M 381 266 720 287\"/>\n<path stroke-width=\"0.1\" stroke=\"gray\" d=\"M 381 266 638 448\"/>\n<path stroke-width=\"0.1\" stroke=\"gray\" d=\"M 381 266 218 131\"/>\n<path stroke-width=\"0.1\" stroke=\"gray\" d=\"M 381 266 79 236\"/>\n<path stroke-width=\"0.1\" stroke=\"gray\" d=\"M 381 266 523 108\"/>\n<path stroke-width=\"0.1\" stroke=\"gray\" d=\"M 381 266 98 145\"/>\n<path stroke-width=\"0.1\" stroke=\"gray\" d=\"M 381 266 522 38\"/>\n<path stroke-width=\"0.1\" stroke=\"gray\" d=\"M 381 266 695 128\"/>\n<path stroke-width=\"0.1\" stroke=\"gray\" d=\"M 381 266 146 330\"/>\n<path stroke-width=\"0.1\" stroke=\"gray\" d=\"M 381 266 674 215\"/>\n<path stroke-width=\"0.1\" stroke=\"gray\" d=\"M 381 266 229 51\"/>\n<path stroke-width=\"0.1\" stroke=\"gray\" d=\"M 381 266 324 520\"/>\n<path stroke-width=\"0.1\" stroke=\"gray\" d=\"M 381 266 413 20\"/>\n<path stroke-width=\"0.1\" stroke=\"gray\" d=\"M 393 487 381 266\"/>\n<path stroke-width=\"0.1\" stroke=\"gray\" d=\"M 322 31 381 266\"/>\n<path stroke-width=\"0.1\" stroke=\"gray\" d=\"M 398 166 381 266\"/>\n<path stroke-width=\"0.1\" stroke=\"gray\" d=\"M 398 166 498 229\"/>\n<path stroke-width=\"0.1\" stroke=\"gray\" d=\"M 381 266 514 491\"/>\n<path stroke-width=\"0.1\" stroke=\"gray\" d=\"M 398 166 275 213\"/>\n<path stroke-width=\"0.1\" stroke=\"gray\" d=\"M 381 266 391 418\"/>\n<path stroke-width=\"0.1\" stroke=\"gray\" d=\"M 381 266 275 213\"/>\n<path stroke-width=\"0.1\" stroke=\"gray\" d=\"M 693 379 638 448\"/>\n<path stroke-width=\"0.1\" stroke=\"gray\" d=\"M 161 193 381 266\"/>\n<path stroke-width=\"0.1\" stroke=\"gray\" d=\"M 161 193 275 213\"/>\n<path stroke-width=\"0.1\" stroke=\"gray\" d=\"M 161 193 218 131\"/>\n<path stroke-width=\"0.1\" stroke=\"gray\" d=\"M 161 193 79 236\"/>\n<path stroke-width=\"0.1\" stroke=\"gray\" d=\"M 161 193 98 145\"/>\n<path stroke-width=\"0.1\" stroke=\"gray\" d=\"M 490 345 381 266\"/>\n<path stroke-width=\"0.1\" stroke=\"gray\" d=\"M 490 345 498 229\"/>\n<path stroke-width=\"0.1\" stroke=\"gray\" d=\"M 490 345 363 325\"/>\n<path stroke-width=\"0.1\" stroke=\"gray\" d=\"M 381 266 363 325\"/>\n<path stroke-width=\"0.1\" stroke=\"gray\" d=\"M 490 345 391 418\"/>\n<path stroke-width=\"0.1\" stroke=\"gray\" d=\"M 381 266 693 379\"/>\n<path stroke-width=\"0.1\" stroke=\"gray\" d=\"M 381 266 161 193\"/>\n<path stroke-width=\"0.1\" stroke=\"gray\" d=\"M 381 266 490 345\"/>\n<path stroke-width=\"0.1\" stroke=\"gray\" d=\"M 381 266 393 487\"/>\n<path stroke-width=\"0.1\" stroke=\"gray\" d=\"M 381 266 322 31\"/>\n<path stroke-width=\"0.1\" stroke=\"gray\" d=\"M 381 266 398 166\"/>\n<path stroke-width=\"0.1\" stroke=\"gray\" d=\"M 381 266 498 229\"/>\n<path stroke-width=\"0.1\" stroke=\"gray\" d=\"M 381 266 248 412\"/>\n<path stroke-width=\"0.1\" stroke=\"gray\" d=\"M 381 266 20 191\"/>\n<path stroke-width=\"0.1\" stroke=\"gray\" d=\"M 381 266 597 395\"/>\n<path stroke-width=\"0.1\" stroke=\"gray\" d=\"M 498 229 490 345\"/>\n<path stroke-width=\"0.1\" stroke=\"gray\" d=\"M 498 229 381 266\"/>\n<path stroke-width=\"0.1\" stroke=\"gray\" d=\"M 498 229 398 166\"/>\n<path stroke-width=\"0.1\" stroke=\"gray\" d=\"M 638 448 381 266\"/>\n<path stroke-width=\"0.1\" stroke=\"gray\" d=\"M 218 131 161 193\"/>\n<path stroke-width=\"0.1\" stroke=\"gray\" d=\"M 218 131 381 266\"/>\n<path stroke-width=\"0.1\" stroke=\"gray\" d=\"M 218 131 275 213\"/>\n<path stroke-width=\"0.1\" stroke=\"gray\" d=\"M 79 236 161 193\"/>\n<path stroke-width=\"0.1\" stroke=\"gray\" d=\"M 79 236 381 266\"/>\n<path stroke-width=\"0.1\" stroke=\"gray\" d=\"M 79 236 98 145\"/>\n<path stroke-width=\"0.1\" stroke=\"gray\" d=\"M 523 108 381 266\"/>\n<path stroke-width=\"0.1\" stroke=\"gray\" d=\"M 523 108 498 229\"/>\n<path stroke-width=\"0.1\" stroke=\"gray\" d=\"M 638 448 693 379\"/>\n<path stroke-width=\"0.1\" stroke=\"gray\" d=\"M 523 108 522 38\"/>\n<path stroke-width=\"0.1\" stroke=\"gray\" d=\"M 98 145 381 266\"/>\n<path stroke-width=\"0.1\" stroke=\"gray\" d=\"M 98 145 79 236\"/>\n<path stroke-width=\"0.1\" stroke=\"gray\" d=\"M 695 128 381 266\"/>\n<path stroke-width=\"0.1\" stroke=\"gray\" d=\"M 514 491 381 266\"/>\n<path stroke-width=\"0.1\" stroke=\"gray\" d=\"M 146 330 381 266\"/>\n<path stroke-width=\"0.1\" stroke=\"gray\" d=\"M 674 215 381 266\"/>\n<path stroke-width=\"0.1\" stroke=\"gray\" d=\"M 674 215 620 151\"/>\n<path stroke-width=\"0.1\" stroke=\"gray\" d=\"M 229 51 381 266\"/>\n<path stroke-width=\"0.1\" stroke=\"gray\" d=\"M 324 520 381 266\"/>\n<path stroke-width=\"0.1\" stroke=\"gray\" d=\"M 98 145 161 193\"/>\n<path stroke-width=\"0.1\" stroke=\"gray\" d=\"M 720 287 381 266\"/>\n<path stroke-width=\"0.1\" stroke=\"gray\" d=\"M 47 340 381 266\"/>\n<path stroke-width=\"0.1\" stroke=\"gray\" d=\"M 110 419 381 266\"/>\n<path stroke-width=\"0.1\" stroke=\"gray\" d=\"M 498 229 363 325\"/>\n<path stroke-width=\"0.1\" stroke=\"gray\" d=\"M 498 229 523 108\"/>\n<path stroke-width=\"0.1\" stroke=\"gray\" d=\"M 248 412 381 266\"/>\n<path stroke-width=\"0.1\" stroke=\"gray\" d=\"M 248 412 363 325\"/>\n<path stroke-width=\"0.1\" stroke=\"gray\" d=\"M 20 191 381 266\"/>\n<path stroke-width=\"0.1\" stroke=\"gray\" d=\"M 275 213 161 193\"/>\n<path stroke-width=\"0.1\" stroke=\"gray\" d=\"M 275 213 381 266\"/>\n<path stroke-width=\"0.1\" stroke=\"gray\" d=\"M 275 213 398 166\"/>\n<path stroke-width=\"0.1\" stroke=\"gray\" d=\"M 275 213 363 325\"/>\n<path stroke-width=\"0.1\" stroke=\"gray\" d=\"M 275 213 218 131\"/>\n<path stroke-width=\"0.1\" stroke=\"gray\" d=\"M 363 325 490 345\"/>\n<path stroke-width=\"0.1\" stroke=\"gray\" d=\"M 363 325 381 266\"/>\n<path stroke-width=\"0.1\" stroke=\"gray\" d=\"M 363 325 498 229\"/>\n<path stroke-width=\"0.1\" stroke=\"gray\" d=\"M 363 325 248 412\"/>\n<path stroke-width=\"0.1\" stroke=\"gray\" d=\"M 363 325 275 213\"/>\n<path stroke-width=\"0.1\" stroke=\"gray\" d=\"M 391 418 490 345\"/>\n<path stroke-width=\"0.1\" stroke=\"gray\" d=\"M 391 418 381 266\"/>\n<path stroke-width=\"0.1\" stroke=\"gray\" d=\"M 522 38 381 266\"/>\n<path stroke-width=\"0.1\" stroke=\"gray\" d=\"M 522 38 523 108\"/>\n<path stroke-width=\"0.1\" stroke=\"gray\" d=\"M 620 151 381 266\"/>\n<path stroke-width=\"0.1\" stroke=\"gray\" d=\"M 620 151 674 215\"/>\n<path stroke-width=\"0.1\" stroke=\"gray\" d=\"M 693 379 381 266\"/>\n<path stroke-width=\"0.1\" stroke=\"gray\" d=\"M 597 395 381 266\"/>\n<circle cx=\"413\" cy=\"20\" r=\"3.0\" style=\"fill:rgb(58, 76, 192);stroke:black;stroke-width:1.0\"/>\n<circle cx=\"324\" cy=\"520\" r=\"3.0\" style=\"fill:rgb(58, 76, 192);stroke:black;stroke-width:1.0\"/>\n<circle cx=\"229\" cy=\"51\" r=\"3.0\" style=\"fill:rgb(58, 76, 192);stroke:black;stroke-width:1.0\"/>\n<circle cx=\"674\" cy=\"215\" r=\"3.0\" style=\"fill:rgb(66, 88, 202);stroke:black;stroke-width:1.0\"/>\n<circle cx=\"146\" cy=\"330\" r=\"3.0\" style=\"fill:rgb(58, 76, 192);stroke:black;stroke-width:1.0\"/>\n<circle cx=\"514\" cy=\"491\" r=\"3.0\" style=\"fill:rgb(58, 76, 192);stroke:black;stroke-width:1.0\"/>\n<circle cx=\"695\" cy=\"128\" r=\"3.0\" style=\"fill:rgb(58, 76, 192);stroke:black;stroke-width:1.0\"/>\n<circle cx=\"98\" cy=\"145\" r=\"3.0\" style=\"fill:rgb(72, 96, 209);stroke:black;stroke-width:1.0\"/>\n<circle cx=\"523\" cy=\"108\" r=\"3.0\" style=\"fill:rgb(72, 96, 209);stroke:black;stroke-width:1.0\"/>\n<circle cx=\"79\" cy=\"236\" r=\"3.0\" style=\"fill:rgb(72, 96, 209);stroke:black;stroke-width:1.0\"/>\n<circle cx=\"218\" cy=\"131\" r=\"3.0\" style=\"fill:rgb(72, 96, 209);stroke:black;stroke-width:1.0\"/>\n<circle cx=\"638\" cy=\"448\" r=\"3.0\" style=\"fill:rgb(66, 88, 202);stroke:black;stroke-width:1.0\"/>\n<circle cx=\"720\" cy=\"287\" r=\"3.0\" style=\"fill:rgb(58, 76, 192);stroke:black;stroke-width:1.0\"/>\n<circle cx=\"47\" cy=\"340\" r=\"3.0\" style=\"fill:rgb(58, 76, 192);stroke:black;stroke-width:1.0\"/>\n<circle cx=\"110\" cy=\"419\" r=\"3.0\" style=\"fill:rgb(58, 76, 192);stroke:black;stroke-width:1.0\"/>\n<circle cx=\"620\" cy=\"151\" r=\"3.0\" style=\"fill:rgb(66, 88, 202);stroke:black;stroke-width:1.0\"/>\n<circle cx=\"522\" cy=\"38\" r=\"3.0\" style=\"fill:rgb(66, 88, 202);stroke:black;stroke-width:1.0\"/>\n<circle cx=\"391\" cy=\"418\" r=\"3.0\" style=\"fill:rgb(64, 84, 199);stroke:black;stroke-width:1.0\"/>\n<circle cx=\"363\" cy=\"325\" r=\"3.0\" style=\"fill:rgb(92, 123, 229);stroke:black;stroke-width:1.0\"/>\n<circle cx=\"275\" cy=\"213\" r=\"3.0\" style=\"fill:rgb(92, 123, 229);stroke:black;stroke-width:1.0\"/>\n<circle cx=\"20\" cy=\"191\" r=\"3.0\" style=\"fill:rgb(58, 76, 192);stroke:black;stroke-width:1.0\"/>\n<circle cx=\"248\" cy=\"412\" r=\"3.0\" style=\"fill:rgb(64, 84, 199);stroke:black;stroke-width:1.0\"/>\n<circle cx=\"498\" cy=\"229\" r=\"3.0\" style=\"fill:rgb(92, 123, 229);stroke:black;stroke-width:1.0\"/>\n<circle cx=\"398\" cy=\"166\" r=\"3.0\" style=\"fill:rgb(72, 96, 209);stroke:black;stroke-width:1.0\"/>\n<circle cx=\"322\" cy=\"31\" r=\"3.0\" style=\"fill:rgb(58, 76, 192);stroke:black;stroke-width:1.0\"/>\n<circle cx=\"393\" cy=\"487\" r=\"3.0\" style=\"fill:rgb(58, 76, 192);stroke:black;stroke-width:1.0\"/>\n<circle cx=\"381\" cy=\"266\" r=\"3.0\" style=\"fill:rgb(179, 3, 38);stroke:black;stroke-width:1.0\"/>\n<circle cx=\"490\" cy=\"345\" r=\"3.0\" style=\"fill:rgb(82, 110, 220);stroke:black;stroke-width:1.0\"/>\n<circle cx=\"161\" cy=\"193\" r=\"3.0\" style=\"fill:rgb(92, 123, 229);stroke:black;stroke-width:1.0\"/>\n<circle cx=\"693\" cy=\"379\" r=\"3.0\" style=\"fill:rgb(66, 88, 202);stroke:black;stroke-width:1.0\"/>\n<circle cx=\"597\" cy=\"395\" r=\"3.0\" style=\"fill:rgb(58, 76, 192);stroke:black;stroke-width:1.0\"/>\n<text text-anchor=\"start\" x=\"419\" y=\"20\" font-size=\"12\">marmite</text><text text-anchor=\"start\" x=\"330\" y=\"520\" font-size=\"12\">charles munger</text><text text-anchor=\"start\" x=\"235\" y=\"51\" font-size=\"12\">michael goldstein</text><text text-anchor=\"start\" x=\"680\" y=\"215\" font-size=\"12\">luxembourg</text><text text-anchor=\"start\" x=\"152\" y=\"330\" font-size=\"12\">iceland</text><text text-anchor=\"start\" x=\"520\" y=\"491\" font-size=\"12\">bitstamp</text><text text-anchor=\"start\" x=\"701\" y=\"128\" font-size=\"12\">david gerard</text><text text-anchor=\"start\" x=\"104\" y=\"145\" font-size=\"12\">ripple</text><text text-anchor=\"start\" x=\"529\" y=\"108\" font-size=\"12\">south korea</text><text text-anchor=\"start\" x=\"85\" y=\"236\" font-size=\"12\">monero</text><text text-anchor=\"start\" x=\"224\" y=\"131\" font-size=\"12\">unicef</text><text text-anchor=\"start\" x=\"644\" y=\"448\" font-size=\"12\">warren buffett</text><text text-anchor=\"start\" x=\"726\" y=\"287\" font-size=\"12\">blockchain, ethereum   smart contractsby</text><text text-anchor=\"start\" x=\"53\" y=\"340\" font-size=\"12\">austin</text><text text-anchor=\"start\" x=\"116\" y=\"419\" font-size=\"12\">proofpoint</text><text text-anchor=\"start\" x=\"626\" y=\"151\" font-size=\"12\">bitstamp exchange</text><text text-anchor=\"start\" x=\"528\" y=\"38\" font-size=\"12\">axel weber</text><text text-anchor=\"start\" x=\"397\" y=\"418\" font-size=\"12\">uk</text><text text-anchor=\"start\" x=\"369\" y=\"325\" font-size=\"12\">us</text><text text-anchor=\"start\" x=\"281\" y=\"213\" font-size=\"12\">un</text><text text-anchor=\"start\" x=\"26\" y=\"191\" font-size=\"12\">blockstack</text><text text-anchor=\"start\" x=\"254\" y=\"412\" font-size=\"12\">christine lagarde</text><text text-anchor=\"start\" x=\"504\" y=\"229\" font-size=\"12\">china</text><text text-anchor=\"start\" x=\"404\" y=\"166\" font-size=\"12\">russia</text><text text-anchor=\"start\" x=\"328\" y=\"31\" font-size=\"12\">texas</text><text text-anchor=\"start\" x=\"399\" y=\"487\" font-size=\"12\">steven englander</text><text text-anchor=\"start\" x=\"387\" y=\"266\" font-size=\"12\">bitcoin</text><text text-anchor=\"start\" x=\"496\" y=\"345\" font-size=\"12\">imf</text><text text-anchor=\"start\" x=\"167\" y=\"193\" font-size=\"12\">ethereum</text><text text-anchor=\"start\" x=\"699\" y=\"379\" font-size=\"12\">ubs</text><text text-anchor=\"start\" x=\"603\" y=\"395\" font-size=\"12\">cfd</text></svg>"
          },
          "metadata": {},
          "execution_count": 25
        }
      ]
    },
    {
      "cell_type": "markdown",
      "source": [
        "### Last 200 articles about Bitcoin from The Guardian api"
      ],
      "metadata": {
        "id": "7ivkKluisRks"
      }
    },
    {
      "cell_type": "code",
      "source": [
        "urls = get_latest_guardian_articles_urls(query, api_key, page_size=200, tag=tag)\n",
        "\n",
        "print(f\"Número de artigos utilizados: {len(urls)}\")"
      ],
      "metadata": {
        "colab": {
          "base_uri": "https://localhost:8080/"
        },
        "id": "-ecZqK0xqEkd",
        "outputId": "e389bca9-9364-4c3a-baec-36771197cca4"
      },
      "execution_count": 26,
      "outputs": [
        {
          "output_type": "stream",
          "name": "stdout",
          "text": [
            "Request URL: https://content.guardianapis.com/search?tag=technology%2Fbitcoin&order-by=newest&page-size=200&q=bitcoin&api-key=test\n",
            "Número de artigos utilizados: 200\n"
          ]
        }
      ]
    },
    {
      "cell_type": "code",
      "source": [
        "bitcoin_entities = extract_entities(urls, print_all=False)"
      ],
      "metadata": {
        "id": "OPWk1bmrqeFV"
      },
      "execution_count": 27,
      "outputs": []
    },
    {
      "cell_type": "code",
      "source": [
        "bitcoin_network_df = get_network_data(bitcoin_entities)\n",
        "\n",
        "G_bitcoin = nx.from_pandas_edgelist(bitcoin_network_df)\n",
        "\n",
        "G_bitcoin.remove_edges_from(nx.selfloop_edges(G_bitcoin))"
      ],
      "metadata": {
        "id": "P1YyYBAjrgy_"
      },
      "execution_count": 28,
      "outputs": []
    },
    {
      "cell_type": "code",
      "source": [
        "print(G_bitcoin)"
      ],
      "metadata": {
        "colab": {
          "base_uri": "https://localhost:8080/"
        },
        "id": "9-aOOAycrpNj",
        "outputId": "db102292-b901-4e57-949a-3eb1f39ecd39"
      },
      "execution_count": 29,
      "outputs": [
        {
          "output_type": "stream",
          "name": "stdout",
          "text": [
            "Graph with 2064 nodes and 2986 edges\n"
          ]
        }
      ]
    },
    {
      "cell_type": "code",
      "source": [
        "draw_ego_graph(G_bitcoin, 'bitcoin', file_path=\"last_200_articles_bitcoin_graph.svg\")"
      ],
      "metadata": {
        "colab": {
          "base_uri": "https://localhost:8080/",
          "height": 580
        },
        "id": "lsppPuHVruBo",
        "outputId": "3d92a097-8d75-4994-f57d-12d61888d66b"
      },
      "execution_count": 30,
      "outputs": [
        {
          "output_type": "execute_result",
          "data": {
            "text/plain": [
              "<IPython.core.display.SVG object>"
            ],
            "image/svg+xml": "<svg xmlns=\"http://www.w3.org/2000/svg\" width=\"1175.33844389094\" height=\"540\">\n<path stroke-width=\"0.1\" stroke=\"gray\" d=\"M 172 56 371 266\"/>\n<path stroke-width=\"0.1\" stroke=\"gray\" d=\"M 371 266 425 512\"/>\n<path stroke-width=\"0.1\" stroke=\"gray\" d=\"M 371 266 164 475\"/>\n<path stroke-width=\"0.1\" stroke=\"gray\" d=\"M 371 266 488 375\"/>\n<path stroke-width=\"0.1\" stroke=\"gray\" d=\"M 371 266 333 142\"/>\n<path stroke-width=\"0.1\" stroke=\"gray\" d=\"M 371 266 621 314\"/>\n<path stroke-width=\"0.1\" stroke=\"gray\" d=\"M 371 266 463 84\"/>\n<path stroke-width=\"0.1\" stroke=\"gray\" d=\"M 371 266 346 286\"/>\n<path stroke-width=\"0.1\" stroke=\"gray\" d=\"M 371 266 675 129\"/>\n<path stroke-width=\"0.1\" stroke=\"gray\" d=\"M 371 266 559 395\"/>\n<path stroke-width=\"0.1\" stroke=\"gray\" d=\"M 371 266 472 174\"/>\n<path stroke-width=\"0.1\" stroke=\"gray\" d=\"M 371 266 502 282\"/>\n<path stroke-width=\"0.1\" stroke=\"gray\" d=\"M 371 266 226 181\"/>\n<path stroke-width=\"0.1\" stroke=\"gray\" d=\"M 371 266 512 37\"/>\n<path stroke-width=\"0.1\" stroke=\"gray\" d=\"M 371 266 711 337\"/>\n<path stroke-width=\"0.1\" stroke=\"gray\" d=\"M 371 266 234 467\"/>\n<path stroke-width=\"0.1\" stroke=\"gray\" d=\"M 371 266 254 77\"/>\n<path stroke-width=\"0.1\" stroke=\"gray\" d=\"M 371 266 319 448\"/>\n<path stroke-width=\"0.1\" stroke=\"gray\" d=\"M 371 266 568 232\"/>\n<path stroke-width=\"0.1\" stroke=\"gray\" d=\"M 371 266 31 367\"/>\n<path stroke-width=\"0.1\" stroke=\"gray\" d=\"M 371 266 698 400\"/>\n<path stroke-width=\"0.1\" stroke=\"gray\" d=\"M 371 266 20 287\"/>\n<path stroke-width=\"0.1\" stroke=\"gray\" d=\"M 371 266 443 374\"/>\n<path stroke-width=\"0.1\" stroke=\"gray\" d=\"M 354 228 445 318\"/>\n<path stroke-width=\"0.1\" stroke=\"gray\" d=\"M 354 228 258 259\"/>\n<path stroke-width=\"0.1\" stroke=\"gray\" d=\"M 354 228 371 266\"/>\n<path stroke-width=\"0.1\" stroke=\"gray\" d=\"M 354 228 396 353\"/>\n<path stroke-width=\"0.1\" stroke=\"gray\" d=\"M 720 193 371 266\"/>\n<path stroke-width=\"0.1\" stroke=\"gray\" d=\"M 374 315 568 232\"/>\n<path stroke-width=\"0.1\" stroke=\"gray\" d=\"M 374 315 371 266\"/>\n<path stroke-width=\"0.1\" stroke=\"gray\" d=\"M 637 391 621 314\"/>\n<path stroke-width=\"0.1\" stroke=\"gray\" d=\"M 637 391 371 266\"/>\n<path stroke-width=\"0.1\" stroke=\"gray\" d=\"M 38 236 371 266\"/>\n<path stroke-width=\"0.1\" stroke=\"gray\" d=\"M 97 147 371 266\"/>\n<path stroke-width=\"0.1\" stroke=\"gray\" d=\"M 713 268 371 266\"/>\n<path stroke-width=\"0.1\" stroke=\"gray\" d=\"M 568 311 445 318\"/>\n<path stroke-width=\"0.1\" stroke=\"gray\" d=\"M 568 311 371 266\"/>\n<path stroke-width=\"0.1\" stroke=\"gray\" d=\"M 568 311 478 232\"/>\n<path stroke-width=\"0.1\" stroke=\"gray\" d=\"M 597 123 463 84\"/>\n<path stroke-width=\"0.1\" stroke=\"gray\" d=\"M 597 123 371 266\"/>\n<path stroke-width=\"0.1\" stroke=\"gray\" d=\"M 371 266 172 56\"/>\n<path stroke-width=\"0.1\" stroke=\"gray\" d=\"M 371 266 50 183\"/>\n<path stroke-width=\"0.1\" stroke=\"gray\" d=\"M 371 266 331 520\"/>\n<path stroke-width=\"0.1\" stroke=\"gray\" d=\"M 371 266 404 434\"/>\n<path stroke-width=\"0.1\" stroke=\"gray\" d=\"M 371 266 445 318\"/>\n<path stroke-width=\"0.1\" stroke=\"gray\" d=\"M 371 266 258 259\"/>\n<path stroke-width=\"0.1\" stroke=\"gray\" d=\"M 396 353 502 282\"/>\n<path stroke-width=\"0.1\" stroke=\"gray\" d=\"M 396 353 319 448\"/>\n<path stroke-width=\"0.1\" stroke=\"gray\" d=\"M 396 353 404 434\"/>\n<path stroke-width=\"0.1\" stroke=\"gray\" d=\"M 396 353 445 318\"/>\n<path stroke-width=\"0.1\" stroke=\"gray\" d=\"M 396 353 354 228\"/>\n<path stroke-width=\"0.1\" stroke=\"gray\" d=\"M 396 353 371 266\"/>\n<path stroke-width=\"0.1\" stroke=\"gray\" d=\"M 396 353 475 413\"/>\n<path stroke-width=\"0.1\" stroke=\"gray\" d=\"M 396 353 478 232\"/>\n<path stroke-width=\"0.1\" stroke=\"gray\" d=\"M 179 111 371 266\"/>\n<path stroke-width=\"0.1\" stroke=\"gray\" d=\"M 475 413 443 374\"/>\n<path stroke-width=\"0.1\" stroke=\"gray\" d=\"M 475 413 488 375\"/>\n<path stroke-width=\"0.1\" stroke=\"gray\" d=\"M 475 413 502 282\"/>\n<path stroke-width=\"0.1\" stroke=\"gray\" d=\"M 475 413 404 434\"/>\n<path stroke-width=\"0.1\" stroke=\"gray\" d=\"M 475 413 445 318\"/>\n<path stroke-width=\"0.1\" stroke=\"gray\" d=\"M 475 413 371 266\"/>\n<path stroke-width=\"0.1\" stroke=\"gray\" d=\"M 475 413 396 353\"/>\n<path stroke-width=\"0.1\" stroke=\"gray\" d=\"M 180 409 371 266\"/>\n<path stroke-width=\"0.1\" stroke=\"gray\" d=\"M 478 232 568 311\"/>\n<path stroke-width=\"0.1\" stroke=\"gray\" d=\"M 478 232 371 266\"/>\n<path stroke-width=\"0.1\" stroke=\"gray\" d=\"M 396 353 488 375\"/>\n<path stroke-width=\"0.1\" stroke=\"gray\" d=\"M 354 228 226 181\"/>\n<path stroke-width=\"0.1\" stroke=\"gray\" d=\"M 396 353 443 374\"/>\n<path stroke-width=\"0.1\" stroke=\"gray\" d=\"M 371 266 478 232\"/>\n<path stroke-width=\"0.1\" stroke=\"gray\" d=\"M 371 266 92 407\"/>\n<path stroke-width=\"0.1\" stroke=\"gray\" d=\"M 371 266 520 127\"/>\n<path stroke-width=\"0.1\" stroke=\"gray\" d=\"M 371 266 354 36\"/>\n<path stroke-width=\"0.1\" stroke=\"gray\" d=\"M 371 266 580 173\"/>\n<path stroke-width=\"0.1\" stroke=\"gray\" d=\"M 371 266 66 323\"/>\n<path stroke-width=\"0.1\" stroke=\"gray\" d=\"M 371 266 434 20\"/>\n<path stroke-width=\"0.1\" stroke=\"gray\" d=\"M 371 266 354 228\"/>\n<path stroke-width=\"0.1\" stroke=\"gray\" d=\"M 371 266 720 193\"/>\n<path stroke-width=\"0.1\" stroke=\"gray\" d=\"M 371 266 374 315\"/>\n<path stroke-width=\"0.1\" stroke=\"gray\" d=\"M 371 266 637 391\"/>\n<path stroke-width=\"0.1\" stroke=\"gray\" d=\"M 371 266 38 236\"/>\n<path stroke-width=\"0.1\" stroke=\"gray\" d=\"M 371 266 97 147\"/>\n<path stroke-width=\"0.1\" stroke=\"gray\" d=\"M 371 266 713 268\"/>\n<path stroke-width=\"0.1\" stroke=\"gray\" d=\"M 371 266 568 311\"/>\n<path stroke-width=\"0.1\" stroke=\"gray\" d=\"M 371 266 597 123\"/>\n<path stroke-width=\"0.1\" stroke=\"gray\" d=\"M 371 266 396 353\"/>\n<path stroke-width=\"0.1\" stroke=\"gray\" d=\"M 371 266 179 111\"/>\n<path stroke-width=\"0.1\" stroke=\"gray\" d=\"M 371 266 475 413\"/>\n<path stroke-width=\"0.1\" stroke=\"gray\" d=\"M 371 266 180 409\"/>\n<path stroke-width=\"0.1\" stroke=\"gray\" d=\"M 371 266 131 326\"/>\n<path stroke-width=\"0.1\" stroke=\"gray\" d=\"M 354 228 502 282\"/>\n<path stroke-width=\"0.1\" stroke=\"gray\" d=\"M 434 20 371 266\"/>\n<path stroke-width=\"0.1\" stroke=\"gray\" d=\"M 434 20 512 37\"/>\n<path stroke-width=\"0.1\" stroke=\"gray\" d=\"M 621 314 443 374\"/>\n<path stroke-width=\"0.1\" stroke=\"gray\" d=\"M 621 314 637 391\"/>\n<path stroke-width=\"0.1\" stroke=\"gray\" d=\"M 621 314 371 266\"/>\n<path stroke-width=\"0.1\" stroke=\"gray\" d=\"M 463 84 597 123\"/>\n<path stroke-width=\"0.1\" stroke=\"gray\" d=\"M 463 84 371 266\"/>\n<path stroke-width=\"0.1\" stroke=\"gray\" d=\"M 346 286 443 374\"/>\n<path stroke-width=\"0.1\" stroke=\"gray\" d=\"M 346 286 488 375\"/>\n<path stroke-width=\"0.1\" stroke=\"gray\" d=\"M 346 286 333 142\"/>\n<path stroke-width=\"0.1\" stroke=\"gray\" d=\"M 346 286 445 318\"/>\n<path stroke-width=\"0.1\" stroke=\"gray\" d=\"M 346 286 258 259\"/>\n<path stroke-width=\"0.1\" stroke=\"gray\" d=\"M 346 286 371 266\"/>\n<path stroke-width=\"0.1\" stroke=\"gray\" d=\"M 675 129 371 266\"/>\n<path stroke-width=\"0.1\" stroke=\"gray\" d=\"M 472 174 333 142\"/>\n<path stroke-width=\"0.1\" stroke=\"gray\" d=\"M 472 174 568 232\"/>\n<path stroke-width=\"0.1\" stroke=\"gray\" d=\"M 472 174 445 318\"/>\n<path stroke-width=\"0.1\" stroke=\"gray\" d=\"M 472 174 371 266\"/>\n<path stroke-width=\"0.1\" stroke=\"gray\" d=\"M 31 367 371 266\"/>\n<path stroke-width=\"0.1\" stroke=\"gray\" d=\"M 502 282 559 395\"/>\n<path stroke-width=\"0.1\" stroke=\"gray\" d=\"M 502 282 520 127\"/>\n<path stroke-width=\"0.1\" stroke=\"gray\" d=\"M 333 142 371 266\"/>\n<path stroke-width=\"0.1\" stroke=\"gray\" d=\"M 502 282 354 228\"/>\n<path stroke-width=\"0.1\" stroke=\"gray\" d=\"M 333 142 254 77\"/>\n<path stroke-width=\"0.1\" stroke=\"gray\" d=\"M 333 142 346 286\"/>\n<path stroke-width=\"0.1\" stroke=\"gray\" d=\"M 50 183 371 266\"/>\n<path stroke-width=\"0.1\" stroke=\"gray\" d=\"M 443 374 621 314\"/>\n<path stroke-width=\"0.1\" stroke=\"gray\" d=\"M 443 374 346 286\"/>\n<path stroke-width=\"0.1\" stroke=\"gray\" d=\"M 443 374 445 318\"/>\n<path stroke-width=\"0.1\" stroke=\"gray\" d=\"M 443 374 371 266\"/>\n<path stroke-width=\"0.1\" stroke=\"gray\" d=\"M 443 374 396 353\"/>\n<path stroke-width=\"0.1\" stroke=\"gray\" d=\"M 443 374 475 413\"/>\n<path stroke-width=\"0.1\" stroke=\"gray\" d=\"M 20 287 371 266\"/>\n<path stroke-width=\"0.1\" stroke=\"gray\" d=\"M 698 400 371 266\"/>\n<path stroke-width=\"0.1\" stroke=\"gray\" d=\"M 559 395 502 282\"/>\n<path stroke-width=\"0.1\" stroke=\"gray\" d=\"M 559 395 445 318\"/>\n<path stroke-width=\"0.1\" stroke=\"gray\" d=\"M 559 395 371 266\"/>\n<path stroke-width=\"0.1\" stroke=\"gray\" d=\"M 425 512 371 266\"/>\n<path stroke-width=\"0.1\" stroke=\"gray\" d=\"M 164 475 371 266\"/>\n<path stroke-width=\"0.1\" stroke=\"gray\" d=\"M 488 375 346 286\"/>\n<path stroke-width=\"0.1\" stroke=\"gray\" d=\"M 488 375 445 318\"/>\n<path stroke-width=\"0.1\" stroke=\"gray\" d=\"M 488 375 371 266\"/>\n<path stroke-width=\"0.1\" stroke=\"gray\" d=\"M 488 375 396 353\"/>\n<path stroke-width=\"0.1\" stroke=\"gray\" d=\"M 488 375 475 413\"/>\n<path stroke-width=\"0.1\" stroke=\"gray\" d=\"M 333 142 472 174\"/>\n<path stroke-width=\"0.1\" stroke=\"gray\" d=\"M 478 232 396 353\"/>\n<path stroke-width=\"0.1\" stroke=\"gray\" d=\"M 502 282 371 266\"/>\n<path stroke-width=\"0.1\" stroke=\"gray\" d=\"M 502 282 475 413\"/>\n<path stroke-width=\"0.1\" stroke=\"gray\" d=\"M 445 318 472 174\"/>\n<path stroke-width=\"0.1\" stroke=\"gray\" d=\"M 445 318 404 434\"/>\n<path stroke-width=\"0.1\" stroke=\"gray\" d=\"M 445 318 258 259\"/>\n<path stroke-width=\"0.1\" stroke=\"gray\" d=\"M 445 318 354 228\"/>\n<path stroke-width=\"0.1\" stroke=\"gray\" d=\"M 445 318 568 311\"/>\n<path stroke-width=\"0.1\" stroke=\"gray\" d=\"M 445 318 371 266\"/>\n<path stroke-width=\"0.1\" stroke=\"gray\" d=\"M 445 318 396 353\"/>\n<path stroke-width=\"0.1\" stroke=\"gray\" d=\"M 445 318 475 413\"/>\n<path stroke-width=\"0.1\" stroke=\"gray\" d=\"M 258 259 346 286\"/>\n<path stroke-width=\"0.1\" stroke=\"gray\" d=\"M 258 259 226 181\"/>\n<path stroke-width=\"0.1\" stroke=\"gray\" d=\"M 258 259 445 318\"/>\n<path stroke-width=\"0.1\" stroke=\"gray\" d=\"M 258 259 354 228\"/>\n<path stroke-width=\"0.1\" stroke=\"gray\" d=\"M 258 259 371 266\"/>\n<path stroke-width=\"0.1\" stroke=\"gray\" d=\"M 92 407 371 266\"/>\n<path stroke-width=\"0.1\" stroke=\"gray\" d=\"M 520 127 502 282\"/>\n<path stroke-width=\"0.1\" stroke=\"gray\" d=\"M 520 127 371 266\"/>\n<path stroke-width=\"0.1\" stroke=\"gray\" d=\"M 354 36 371 266\"/>\n<path stroke-width=\"0.1\" stroke=\"gray\" d=\"M 580 173 371 266\"/>\n<path stroke-width=\"0.1\" stroke=\"gray\" d=\"M 66 323 371 266\"/>\n<path stroke-width=\"0.1\" stroke=\"gray\" d=\"M 445 318 346 286\"/>\n<path stroke-width=\"0.1\" stroke=\"gray\" d=\"M 502 282 396 353\"/>\n<path stroke-width=\"0.1\" stroke=\"gray\" d=\"M 445 318 488 375\"/>\n<path stroke-width=\"0.1\" stroke=\"gray\" d=\"M 445 318 443 374\"/>\n<path stroke-width=\"0.1\" stroke=\"gray\" d=\"M 226 181 258 259\"/>\n<path stroke-width=\"0.1\" stroke=\"gray\" d=\"M 226 181 354 228\"/>\n<path stroke-width=\"0.1\" stroke=\"gray\" d=\"M 226 181 371 266\"/>\n<path stroke-width=\"0.1\" stroke=\"gray\" d=\"M 512 37 434 20\"/>\n<path stroke-width=\"0.1\" stroke=\"gray\" d=\"M 512 37 371 266\"/>\n<path stroke-width=\"0.1\" stroke=\"gray\" d=\"M 711 337 371 266\"/>\n<path stroke-width=\"0.1\" stroke=\"gray\" d=\"M 234 467 371 266\"/>\n<path stroke-width=\"0.1\" stroke=\"gray\" d=\"M 254 77 333 142\"/>\n<path stroke-width=\"0.1\" stroke=\"gray\" d=\"M 254 77 371 266\"/>\n<path stroke-width=\"0.1\" stroke=\"gray\" d=\"M 319 448 371 266\"/>\n<path stroke-width=\"0.1\" stroke=\"gray\" d=\"M 319 448 396 353\"/>\n<path stroke-width=\"0.1\" stroke=\"gray\" d=\"M 568 232 472 174\"/>\n<path stroke-width=\"0.1\" stroke=\"gray\" d=\"M 568 232 374 315\"/>\n<path stroke-width=\"0.1\" stroke=\"gray\" d=\"M 568 232 371 266\"/>\n<path stroke-width=\"0.1\" stroke=\"gray\" d=\"M 331 520 371 266\"/>\n<path stroke-width=\"0.1\" stroke=\"gray\" d=\"M 404 434 445 318\"/>\n<path stroke-width=\"0.1\" stroke=\"gray\" d=\"M 404 434 371 266\"/>\n<path stroke-width=\"0.1\" stroke=\"gray\" d=\"M 404 434 396 353\"/>\n<path stroke-width=\"0.1\" stroke=\"gray\" d=\"M 404 434 475 413\"/>\n<path stroke-width=\"0.1\" stroke=\"gray\" d=\"M 445 318 559 395\"/>\n<path stroke-width=\"0.1\" stroke=\"gray\" d=\"M 131 326 371 266\"/>\n<circle cx=\"172\" cy=\"56\" r=\"3.0\" style=\"fill:rgb(58, 76, 192);stroke:black;stroke-width:1.0\"/>\n<circle cx=\"50\" cy=\"183\" r=\"3.0\" style=\"fill:rgb(58, 76, 192);stroke:black;stroke-width:1.0\"/>\n<circle cx=\"443\" cy=\"374\" r=\"3.0\" style=\"fill:rgb(80, 107, 218);stroke:black;stroke-width:1.0\"/>\n<circle cx=\"20\" cy=\"287\" r=\"3.0\" style=\"fill:rgb(58, 76, 192);stroke:black;stroke-width:1.0\"/>\n<circle cx=\"698\" cy=\"400\" r=\"3.0\" style=\"fill:rgb(58, 76, 192);stroke:black;stroke-width:1.0\"/>\n<circle cx=\"559\" cy=\"395\" r=\"3.0\" style=\"fill:rgb(64, 84, 199);stroke:black;stroke-width:1.0\"/>\n<circle cx=\"425\" cy=\"512\" r=\"3.0\" style=\"fill:rgb(58, 76, 192);stroke:black;stroke-width:1.0\"/>\n<circle cx=\"164\" cy=\"475\" r=\"3.0\" style=\"fill:rgb(58, 76, 192);stroke:black;stroke-width:1.0\"/>\n<circle cx=\"488\" cy=\"375\" r=\"3.0\" style=\"fill:rgb(72, 96, 209);stroke:black;stroke-width:1.0\"/>\n<circle cx=\"333\" cy=\"142\" r=\"3.0\" style=\"fill:rgb(72, 96, 209);stroke:black;stroke-width:1.0\"/>\n<circle cx=\"621\" cy=\"314\" r=\"3.0\" style=\"fill:rgb(66, 88, 202);stroke:black;stroke-width:1.0\"/>\n<circle cx=\"463\" cy=\"84\" r=\"3.0\" style=\"fill:rgb(64, 84, 199);stroke:black;stroke-width:1.0\"/>\n<circle cx=\"346\" cy=\"286\" r=\"3.0\" style=\"fill:rgb(80, 107, 218);stroke:black;stroke-width:1.0\"/>\n<circle cx=\"675\" cy=\"129\" r=\"3.0\" style=\"fill:rgb(58, 76, 192);stroke:black;stroke-width:1.0\"/>\n<circle cx=\"472\" cy=\"174\" r=\"3.0\" style=\"fill:rgb(72, 96, 209);stroke:black;stroke-width:1.0\"/>\n<circle cx=\"31\" cy=\"367\" r=\"3.0\" style=\"fill:rgb(58, 76, 192);stroke:black;stroke-width:1.0\"/>\n<circle cx=\"502\" cy=\"282\" r=\"3.0\" style=\"fill:rgb(80, 107, 218);stroke:black;stroke-width:1.0\"/>\n<circle cx=\"226\" cy=\"181\" r=\"3.0\" style=\"fill:rgb(66, 88, 202);stroke:black;stroke-width:1.0\"/>\n<circle cx=\"512\" cy=\"37\" r=\"3.0\" style=\"fill:rgb(64, 84, 199);stroke:black;stroke-width:1.0\"/>\n<circle cx=\"711\" cy=\"337\" r=\"3.0\" style=\"fill:rgb(58, 76, 192);stroke:black;stroke-width:1.0\"/>\n<circle cx=\"234\" cy=\"467\" r=\"3.0\" style=\"fill:rgb(58, 76, 192);stroke:black;stroke-width:1.0\"/>\n<circle cx=\"254\" cy=\"77\" r=\"3.0\" style=\"fill:rgb(60, 79, 195);stroke:black;stroke-width:1.0\"/>\n<circle cx=\"319\" cy=\"448\" r=\"3.0\" style=\"fill:rgb(60, 79, 195);stroke:black;stroke-width:1.0\"/>\n<circle cx=\"568\" cy=\"232\" r=\"3.0\" style=\"fill:rgb(66, 88, 202);stroke:black;stroke-width:1.0\"/>\n<circle cx=\"331\" cy=\"520\" r=\"3.0\" style=\"fill:rgb(58, 76, 192);stroke:black;stroke-width:1.0\"/>\n<circle cx=\"404\" cy=\"434\" r=\"3.0\" style=\"fill:rgb(70, 93, 207);stroke:black;stroke-width:1.0\"/>\n<circle cx=\"445\" cy=\"318\" r=\"3.0\" style=\"fill:rgb(109, 144, 241);stroke:black;stroke-width:1.0\"/>\n<circle cx=\"258\" cy=\"259\" r=\"3.0\" style=\"fill:rgb(76, 102, 214);stroke:black;stroke-width:1.0\"/>\n<circle cx=\"92\" cy=\"407\" r=\"3.0\" style=\"fill:rgb(58, 76, 192);stroke:black;stroke-width:1.0\"/>\n<circle cx=\"520\" cy=\"127\" r=\"3.0\" style=\"fill:rgb(60, 79, 195);stroke:black;stroke-width:1.0\"/>\n<circle cx=\"354\" cy=\"36\" r=\"3.0\" style=\"fill:rgb(58, 76, 192);stroke:black;stroke-width:1.0\"/>\n<circle cx=\"580\" cy=\"173\" r=\"3.0\" style=\"fill:rgb(58, 76, 192);stroke:black;stroke-width:1.0\"/>\n<circle cx=\"66\" cy=\"323\" r=\"3.0\" style=\"fill:rgb(58, 76, 192);stroke:black;stroke-width:1.0\"/>\n<circle cx=\"434\" cy=\"20\" r=\"3.0\" style=\"fill:rgb(64, 84, 199);stroke:black;stroke-width:1.0\"/>\n<circle cx=\"354\" cy=\"228\" r=\"3.0\" style=\"fill:rgb(80, 107, 218);stroke:black;stroke-width:1.0\"/>\n<circle cx=\"720\" cy=\"193\" r=\"3.0\" style=\"fill:rgb(58, 76, 192);stroke:black;stroke-width:1.0\"/>\n<circle cx=\"374\" cy=\"315\" r=\"3.0\" style=\"fill:rgb(60, 79, 195);stroke:black;stroke-width:1.0\"/>\n<circle cx=\"637\" cy=\"391\" r=\"3.0\" style=\"fill:rgb(60, 79, 195);stroke:black;stroke-width:1.0\"/>\n<circle cx=\"38\" cy=\"236\" r=\"3.0\" style=\"fill:rgb(58, 76, 192);stroke:black;stroke-width:1.0\"/>\n<circle cx=\"97\" cy=\"147\" r=\"3.0\" style=\"fill:rgb(58, 76, 192);stroke:black;stroke-width:1.0\"/>\n<circle cx=\"713\" cy=\"268\" r=\"3.0\" style=\"fill:rgb(58, 76, 192);stroke:black;stroke-width:1.0\"/>\n<circle cx=\"568\" cy=\"311\" r=\"3.0\" style=\"fill:rgb(66, 88, 202);stroke:black;stroke-width:1.0\"/>\n<circle cx=\"597\" cy=\"123\" r=\"3.0\" style=\"fill:rgb(64, 84, 199);stroke:black;stroke-width:1.0\"/>\n<circle cx=\"371\" cy=\"266\" r=\"3.0\" style=\"fill:rgb(179, 3, 38);stroke:black;stroke-width:1.0\"/>\n<circle cx=\"396\" cy=\"353\" r=\"3.0\" style=\"fill:rgb(99, 131, 234);stroke:black;stroke-width:1.0\"/>\n<circle cx=\"179\" cy=\"111\" r=\"3.0\" style=\"fill:rgb(58, 76, 192);stroke:black;stroke-width:1.0\"/>\n<circle cx=\"475\" cy=\"413\" r=\"3.0\" style=\"fill:rgb(82, 110, 220);stroke:black;stroke-width:1.0\"/>\n<circle cx=\"180\" cy=\"409\" r=\"3.0\" style=\"fill:rgb(58, 76, 192);stroke:black;stroke-width:1.0\"/>\n<circle cx=\"478\" cy=\"232\" r=\"3.0\" style=\"fill:rgb(66, 88, 202);stroke:black;stroke-width:1.0\"/>\n<circle cx=\"131\" cy=\"326\" r=\"3.0\" style=\"fill:rgb(58, 76, 192);stroke:black;stroke-width:1.0\"/>\n<text text-anchor=\"start\" x=\"178\" y=\"56\" font-size=\"12\">satoshi nakamoto</text><text text-anchor=\"start\" x=\"56\" y=\"183\" font-size=\"12\">sam bankman-friedcommitted</text><text text-anchor=\"start\" x=\"449\" y=\"374\" font-size=\"12\">sec</text><text text-anchor=\"start\" x=\"26\" y=\"287\" font-size=\"12\">brosens</text><text text-anchor=\"start\" x=\"704\" y=\"400\" font-size=\"12\">david gerard</text><text text-anchor=\"start\" x=\"565\" y=\"395\" font-size=\"12\">donald trump</text><text text-anchor=\"start\" x=\"431\" y=\"512\" font-size=\"12\">manhattan</text><text text-anchor=\"start\" x=\"170\" y=\"475\" font-size=\"12\">monero</text><text text-anchor=\"start\" x=\"494\" y=\"375\" font-size=\"12\">musk</text><text text-anchor=\"start\" x=\"339\" y=\"142\" font-size=\"12\">eric grill</text><text text-anchor=\"start\" x=\"627\" y=\"314\" font-size=\"12\">fbi</text><text text-anchor=\"start\" x=\"469\" y=\"84\" font-size=\"12\">barack obama</text><text text-anchor=\"start\" x=\"352\" y=\"286\" font-size=\"12\">guardian</text><text text-anchor=\"start\" x=\"681\" y=\"129\" font-size=\"12\">luckyhttps://t.co/3zhsd3ooxl</text><text text-anchor=\"start\" x=\"478\" y=\"174\" font-size=\"12\">el salvador</text><text text-anchor=\"start\" x=\"37\" y=\"367\" font-size=\"12\">eft</text><text text-anchor=\"start\" x=\"508\" y=\"282\" font-size=\"12\">elon musk</text><text text-anchor=\"start\" x=\"232\" y=\"181\" font-size=\"12\">turkey</text><text text-anchor=\"start\" x=\"518\" y=\"37\" font-size=\"12\">alex de vries</text><text text-anchor=\"start\" x=\"717\" y=\"337\" font-size=\"12\">resources, conservation and recycling</text><text text-anchor=\"start\" x=\"240\" y=\"467\" font-size=\"12\">authorof</text><text text-anchor=\"start\" x=\"260\" y=\"77\" font-size=\"12\">chainbytes</text><text text-anchor=\"start\" x=\"325\" y=\"448\" font-size=\"12\">robert f kennedy jr</text><text text-anchor=\"start\" x=\"574\" y=\"232\" font-size=\"12\">tether</text><text text-anchor=\"start\" x=\"337\" y=\"520\" font-size=\"12\">naeem aslam</text><text text-anchor=\"start\" x=\"410\" y=\"434\" font-size=\"12\">america</text><text text-anchor=\"start\" x=\"451\" y=\"318\" font-size=\"12\">us</text><text text-anchor=\"start\" x=\"264\" y=\"259\" font-size=\"12\">uk</text><text text-anchor=\"start\" x=\"98\" y=\"407\" font-size=\"12\">bank of england</text><text text-anchor=\"start\" x=\"526\" y=\"127\" font-size=\"12\">twitter</text><text text-anchor=\"start\" x=\"360\" y=\"36\" font-size=\"12\">us securities and exchange commission</text><text text-anchor=\"start\" x=\"586\" y=\"173\" font-size=\"12\">bitcoin beach</text><text text-anchor=\"start\" x=\"72\" y=\"323\" font-size=\"12\">recep tayyip erdoğan</text><text text-anchor=\"start\" x=\"440\" y=\"20\" font-size=\"12\">christian stoll</text><text text-anchor=\"start\" x=\"360\" y=\"228\" font-size=\"12\">china</text><text text-anchor=\"start\" x=\"726\" y=\"193\" font-size=\"12\">reserve”of</text><text text-anchor=\"start\" x=\"380\" y=\"315\" font-size=\"12\">usdt</text><text text-anchor=\"start\" x=\"643\" y=\"391\" font-size=\"12\">gurvais grigg</text><text text-anchor=\"start\" x=\"44\" y=\"236\" font-size=\"12\">johns hopkins universitysays</text><text text-anchor=\"start\" x=\"103\" y=\"147\" font-size=\"12\">binance boss</text><text text-anchor=\"start\" x=\"719\" y=\"268\" font-size=\"12\">emeç</text><text text-anchor=\"start\" x=\"574\" y=\"311\" font-size=\"12\">celsius</text><text text-anchor=\"start\" x=\"603\" y=\"123\" font-size=\"12\">joseph james o’connor</text><text text-anchor=\"start\" x=\"377\" y=\"266\" font-size=\"12\">bitcoin</text><text text-anchor=\"start\" x=\"402\" y=\"353\" font-size=\"12\">trump</text><text text-anchor=\"start\" x=\"185\" y=\"111\" font-size=\"12\">josé roman martínez</text><text text-anchor=\"start\" x=\"481\" y=\"413\" font-size=\"12\">tesla</text><text text-anchor=\"start\" x=\"186\" y=\"409\" font-size=\"12\">miami</text><text text-anchor=\"start\" x=\"484\" y=\"232\" font-size=\"12\">ethereum</text><text text-anchor=\"start\" x=\"137\" y=\"326\" font-size=\"12\">morgan</text></svg>"
          },
          "metadata": {},
          "execution_count": 30
        }
      ]
    },
    {
      "cell_type": "markdown",
      "source": [
        "## Exporting graphs to use in Gephi"
      ],
      "metadata": {
        "id": "6lA986GsXjRk"
      }
    },
    {
      "cell_type": "code",
      "source": [
        "import networkx as nx\n",
        "\n",
        "def analyze_and_export_graph(graph, output_filename):\n",
        "    \"\"\"\n",
        "    Perform centrality analysis, k-core/k-shell decomposition, and export the graph.\n",
        "\n",
        "    Parameters:\n",
        "    graph (networkx.Graph): The input graph to analyze.\n",
        "    output_filename (str): The name of the output GEXF file.\n",
        "\n",
        "    Returns:\n",
        "    None\n",
        "    \"\"\"\n",
        "    # Create a copy of the graph to work on\n",
        "    graph = graph.copy()\n",
        "\n",
        "    # Reassign node IDs to sequential integers from 0 to n-1\n",
        "    mapping = {node: i for i, node in enumerate(graph.nodes())}\n",
        "    reverse_mapping = {i: node for node, i in mapping.items()}\n",
        "    graph = nx.relabel_nodes(graph, mapping)\n",
        "\n",
        "    # Update node attributes for Gephi compatibility\n",
        "    for node in graph.nodes():\n",
        "        original_name = reverse_mapping[node]\n",
        "        graph.nodes[node][\"id\"] = node\n",
        "        graph.nodes[node][\"name\"] = original_name  # Original node name\n",
        "        graph.nodes[node][\"label\"] = str(original_name)  # Unique identifier as string for Gephi\n",
        "\n",
        "    # Calculate centrality measures\n",
        "    betweenness_centrality = nx.betweenness_centrality(graph)\n",
        "    nx.set_node_attributes(graph, betweenness_centrality, 'betweenness_centrality')\n",
        "\n",
        "    degree_centrality = nx.degree_centrality(graph)\n",
        "    nx.set_node_attributes(graph, degree_centrality, 'degree_centrality')\n",
        "\n",
        "    closeness_centrality = nx.closeness_centrality(graph)\n",
        "    nx.set_node_attributes(graph, closeness_centrality, 'closeness_centrality')\n",
        "\n",
        "    eigenvector_centrality = nx.eigenvector_centrality(graph)\n",
        "    nx.set_node_attributes(graph, eigenvector_centrality, 'eigenvector_centrality')\n",
        "\n",
        "    # Remove self-loops from the graph\n",
        "    graph.remove_edges_from(nx.selfloop_edges(graph))\n",
        "\n",
        "    # Calculate k-core and k-shell decomposition\n",
        "    n_cores = sorted(set(nx.core_number(graph).values()))\n",
        "\n",
        "    if len(n_cores) > 1:\n",
        "        k_shell = nx.k_shell(graph, k=n_cores[-2])  # Second-highest k-shell\n",
        "        k_core = nx.k_core(graph, k=n_cores[-1])  # Highest k-core\n",
        "    else:\n",
        "        raise ValueError(\"The network has only one k-core level.\")\n",
        "\n",
        "    # Mark nodes based on k-core and k-shell\n",
        "    nx.set_node_attributes(graph, 0, 'is_core')  # Default value for nodes outside k-core/shell\n",
        "    nx.set_node_attributes(graph, {n: 1 for n in k_core.nodes()}, 'is_core')  # Mark k-core nodes\n",
        "    nx.set_node_attributes(graph, {n: 2 for n in k_shell.nodes()}, 'is_core')  # Mark k-shell nodes\n",
        "\n",
        "    # Print k-core and k-shell information\n",
        "    print(f\"k-core/k-shell list: {n_cores}\")\n",
        "    print(f\"k-shell info for k = {n_cores[-2]}: {k_shell}\")\n",
        "    print(f\"k-core info for k = {n_cores[-1]}: {k_core}\")\n",
        "\n",
        "    # Export the graph to a GEXF file\n",
        "    nx.write_gexf(graph, output_filename)\n",
        "    print(f\"Graph exported to {output_filename}\\n\")\n"
      ],
      "metadata": {
        "id": "kWlA0s38Xi6V"
      },
      "execution_count": 34,
      "outputs": []
    },
    {
      "cell_type": "code",
      "source": [
        "analyze_and_export_graph(G_the_guardian_bitcoin, 'latest_bitcoin_network.gexf')\n",
        "analyze_and_export_graph(G_the_guardian_2018_bitcoin, '2018_bitcoin_network.gexf')\n",
        "analyze_and_export_graph(G_bitcoin, 'bitcoin_network.gexf')"
      ],
      "metadata": {
        "colab": {
          "base_uri": "https://localhost:8080/"
        },
        "id": "JTI9svwVYs_o",
        "outputId": "bc541e17-6b75-46f7-cee5-ef80b65ad20b"
      },
      "execution_count": 35,
      "outputs": [
        {
          "output_type": "stream",
          "name": "stdout",
          "text": [
            "k-core/k-shell list: [1, 2, 3, 4, 5]\n",
            "k-shell info for k = 4: Graph with 58 nodes and 106 edges\n",
            "k-core info for k = 5: Graph with 26 nodes and 96 edges\n",
            "Graph exported to latest_bitcoin_network.gexf\n",
            "\n",
            "k-core/k-shell list: [1, 2, 3]\n",
            "k-shell info for k = 2: Graph with 116 nodes and 113 edges\n",
            "k-core info for k = 3: Graph with 46 nodes and 91 edges\n",
            "Graph exported to 2018_bitcoin_network.gexf\n",
            "\n",
            "k-core/k-shell list: [1, 2, 3, 4, 5]\n",
            "k-shell info for k = 4: Graph with 60 nodes and 87 edges\n",
            "k-core info for k = 5: Graph with 55 nodes and 228 edges\n",
            "Graph exported to bitcoin_network.gexf\n",
            "\n"
          ]
        }
      ]
    }
  ]
}